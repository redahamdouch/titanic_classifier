{
 "cells": [
  {
   "attachments": {},
   "cell_type": "markdown",
   "metadata": {},
   "source": [
    "## Imports"
   ]
  },
  {
   "cell_type": "code",
   "execution_count": 202,
   "metadata": {},
   "outputs": [],
   "source": [
    "import pandas as pd \n",
    "import matplotlib.pyplot as plt\n",
    "import seaborn as sns\n",
    "import numpy as np\n",
    "import scipy as sp\n",
    "from tqdm import tqdm\n",
    "#models\n",
    "from sklearn.model_selection import train_test_split\n",
    "from sklearn.preprocessing import StandardScaler\n",
    "from sklearn.linear_model import LogisticRegression\n",
    "from sklearn.naive_bayes import GaussianNB\n",
    "from sklearn.tree import DecisionTreeClassifier\n",
    "from sklearn.neighbors import KNeighborsClassifier\n",
    "from sklearn.ensemble import RandomForestClassifier\n",
    "from catboost import CatBoostClassifier\n",
    "from sklearn.model_selection import GridSearchCV\n",
    "#metrics\n",
    "from sklearn.metrics import confusion_matrix\n",
    "from sklearn.metrics import classification_report\n",
    "from sklearn.metrics import accuracy_score\n",
    "from sklearn.svm import SVC\n",
    "from sklearn.model_selection import cross_val_score\n",
    "from sklearn import tree\n",
    "from sklearn.metrics import precision_recall_fscore_support,ConfusionMatrixDisplay\n"
   ]
  },
  {
   "cell_type": "code",
   "execution_count": 203,
   "metadata": {},
   "outputs": [],
   "source": [
    "df=pd.read_csv('titanic.csv')\n",
    "rand_state=25"
   ]
  },
  {
   "attachments": {},
   "cell_type": "markdown",
   "metadata": {},
   "source": [
    "### 1) Describe Data"
   ]
  },
  {
   "cell_type": "code",
   "execution_count": 204,
   "metadata": {},
   "outputs": [
    {
     "data": {
      "text/plain": [
       "Index(['row ID', 'pclass', 'survived', 'name', 'sex', 'age', 'sibsp', 'parch',\n",
       "       'ticket', 'fare', 'cabin', 'cabinCategory', 'embarked', 'boat', 'body',\n",
       "       'home.dest'],\n",
       "      dtype='object')"
      ]
     },
     "execution_count": 204,
     "metadata": {},
     "output_type": "execute_result"
    }
   ],
   "source": [
    "df.columns"
   ]
  },
  {
   "cell_type": "code",
   "execution_count": 205,
   "metadata": {},
   "outputs": [
    {
     "data": {
      "text/html": [
       "<div>\n",
       "<style scoped>\n",
       "    .dataframe tbody tr th:only-of-type {\n",
       "        vertical-align: middle;\n",
       "    }\n",
       "\n",
       "    .dataframe tbody tr th {\n",
       "        vertical-align: top;\n",
       "    }\n",
       "\n",
       "    .dataframe thead th {\n",
       "        text-align: right;\n",
       "    }\n",
       "</style>\n",
       "<table border=\"1\" class=\"dataframe\">\n",
       "  <thead>\n",
       "    <tr style=\"text-align: right;\">\n",
       "      <th></th>\n",
       "      <th>row ID</th>\n",
       "      <th>pclass</th>\n",
       "      <th>survived</th>\n",
       "      <th>name</th>\n",
       "      <th>sex</th>\n",
       "      <th>age</th>\n",
       "      <th>sibsp</th>\n",
       "      <th>parch</th>\n",
       "      <th>ticket</th>\n",
       "      <th>fare</th>\n",
       "      <th>cabin</th>\n",
       "      <th>cabinCategory</th>\n",
       "      <th>embarked</th>\n",
       "      <th>boat</th>\n",
       "      <th>body</th>\n",
       "      <th>home.dest</th>\n",
       "    </tr>\n",
       "  </thead>\n",
       "  <tbody>\n",
       "    <tr>\n",
       "      <th>0</th>\n",
       "      <td>Row0</td>\n",
       "      <td>1</td>\n",
       "      <td>yes</td>\n",
       "      <td>Allen, Miss. Elisabeth Walton</td>\n",
       "      <td>female</td>\n",
       "      <td>29.0000</td>\n",
       "      <td>0</td>\n",
       "      <td>0</td>\n",
       "      <td>24160</td>\n",
       "      <td>211.3375</td>\n",
       "      <td>B5</td>\n",
       "      <td>B</td>\n",
       "      <td>S</td>\n",
       "      <td>2</td>\n",
       "      <td>NaN</td>\n",
       "      <td>St Louis, MO</td>\n",
       "    </tr>\n",
       "    <tr>\n",
       "      <th>1</th>\n",
       "      <td>Row1</td>\n",
       "      <td>1</td>\n",
       "      <td>yes</td>\n",
       "      <td>Allison, Master. Hudson Trevor</td>\n",
       "      <td>male</td>\n",
       "      <td>0.9167</td>\n",
       "      <td>1</td>\n",
       "      <td>2</td>\n",
       "      <td>113781</td>\n",
       "      <td>151.5500</td>\n",
       "      <td>C22 C26</td>\n",
       "      <td>C</td>\n",
       "      <td>S</td>\n",
       "      <td>11</td>\n",
       "      <td>NaN</td>\n",
       "      <td>Montreal, PQ / Chesterville, ON</td>\n",
       "    </tr>\n",
       "  </tbody>\n",
       "</table>\n",
       "</div>"
      ],
      "text/plain": [
       "  row ID  pclass survived                            name     sex      age  \\\n",
       "0   Row0       1      yes   Allen, Miss. Elisabeth Walton  female  29.0000   \n",
       "1   Row1       1      yes  Allison, Master. Hudson Trevor    male   0.9167   \n",
       "\n",
       "   sibsp  parch  ticket      fare    cabin cabinCategory embarked boat  body  \\\n",
       "0      0      0   24160  211.3375       B5             B        S    2   NaN   \n",
       "1      1      2  113781  151.5500  C22 C26             C        S   11   NaN   \n",
       "\n",
       "                         home.dest  \n",
       "0                     St Louis, MO  \n",
       "1  Montreal, PQ / Chesterville, ON  "
      ]
     },
     "execution_count": 205,
     "metadata": {},
     "output_type": "execute_result"
    }
   ],
   "source": [
    "df.head(2)"
   ]
  },
  {
   "cell_type": "code",
   "execution_count": 206,
   "metadata": {},
   "outputs": [
    {
     "data": {
      "text/html": [
       "<div>\n",
       "<style scoped>\n",
       "    .dataframe tbody tr th:only-of-type {\n",
       "        vertical-align: middle;\n",
       "    }\n",
       "\n",
       "    .dataframe tbody tr th {\n",
       "        vertical-align: top;\n",
       "    }\n",
       "\n",
       "    .dataframe thead th {\n",
       "        text-align: right;\n",
       "    }\n",
       "</style>\n",
       "<table border=\"1\" class=\"dataframe\">\n",
       "  <thead>\n",
       "    <tr style=\"text-align: right;\">\n",
       "      <th></th>\n",
       "      <th>count</th>\n",
       "      <th>mean</th>\n",
       "      <th>std</th>\n",
       "      <th>min</th>\n",
       "      <th>25%</th>\n",
       "      <th>50%</th>\n",
       "      <th>75%</th>\n",
       "      <th>max</th>\n",
       "    </tr>\n",
       "  </thead>\n",
       "  <tbody>\n",
       "    <tr>\n",
       "      <th>pclass</th>\n",
       "      <td>1309.0</td>\n",
       "      <td>2.294882</td>\n",
       "      <td>0.837836</td>\n",
       "      <td>1.0000</td>\n",
       "      <td>2.0000</td>\n",
       "      <td>3.0000</td>\n",
       "      <td>3.000</td>\n",
       "      <td>3.0000</td>\n",
       "    </tr>\n",
       "    <tr>\n",
       "      <th>age</th>\n",
       "      <td>1046.0</td>\n",
       "      <td>29.881135</td>\n",
       "      <td>14.413500</td>\n",
       "      <td>0.1667</td>\n",
       "      <td>21.0000</td>\n",
       "      <td>28.0000</td>\n",
       "      <td>39.000</td>\n",
       "      <td>80.0000</td>\n",
       "    </tr>\n",
       "    <tr>\n",
       "      <th>sibsp</th>\n",
       "      <td>1309.0</td>\n",
       "      <td>0.498854</td>\n",
       "      <td>1.041658</td>\n",
       "      <td>0.0000</td>\n",
       "      <td>0.0000</td>\n",
       "      <td>0.0000</td>\n",
       "      <td>1.000</td>\n",
       "      <td>8.0000</td>\n",
       "    </tr>\n",
       "    <tr>\n",
       "      <th>parch</th>\n",
       "      <td>1309.0</td>\n",
       "      <td>0.385027</td>\n",
       "      <td>0.865560</td>\n",
       "      <td>0.0000</td>\n",
       "      <td>0.0000</td>\n",
       "      <td>0.0000</td>\n",
       "      <td>0.000</td>\n",
       "      <td>9.0000</td>\n",
       "    </tr>\n",
       "    <tr>\n",
       "      <th>fare</th>\n",
       "      <td>1308.0</td>\n",
       "      <td>33.295479</td>\n",
       "      <td>51.758668</td>\n",
       "      <td>0.0000</td>\n",
       "      <td>7.8958</td>\n",
       "      <td>14.4542</td>\n",
       "      <td>31.275</td>\n",
       "      <td>512.3292</td>\n",
       "    </tr>\n",
       "    <tr>\n",
       "      <th>body</th>\n",
       "      <td>121.0</td>\n",
       "      <td>160.809917</td>\n",
       "      <td>97.696922</td>\n",
       "      <td>1.0000</td>\n",
       "      <td>72.0000</td>\n",
       "      <td>155.0000</td>\n",
       "      <td>256.000</td>\n",
       "      <td>328.0000</td>\n",
       "    </tr>\n",
       "  </tbody>\n",
       "</table>\n",
       "</div>"
      ],
      "text/plain": [
       "         count        mean        std     min      25%       50%      75%  \\\n",
       "pclass  1309.0    2.294882   0.837836  1.0000   2.0000    3.0000    3.000   \n",
       "age     1046.0   29.881135  14.413500  0.1667  21.0000   28.0000   39.000   \n",
       "sibsp   1309.0    0.498854   1.041658  0.0000   0.0000    0.0000    1.000   \n",
       "parch   1309.0    0.385027   0.865560  0.0000   0.0000    0.0000    0.000   \n",
       "fare    1308.0   33.295479  51.758668  0.0000   7.8958   14.4542   31.275   \n",
       "body     121.0  160.809917  97.696922  1.0000  72.0000  155.0000  256.000   \n",
       "\n",
       "             max  \n",
       "pclass    3.0000  \n",
       "age      80.0000  \n",
       "sibsp     8.0000  \n",
       "parch     9.0000  \n",
       "fare    512.3292  \n",
       "body    328.0000  "
      ]
     },
     "execution_count": 206,
     "metadata": {},
     "output_type": "execute_result"
    }
   ],
   "source": [
    "df.describe().transpose()"
   ]
  },
  {
   "attachments": {},
   "cell_type": "markdown",
   "metadata": {},
   "source": [
    "### 2) Feature selection \n",
    "#### a) We can drop all the variables with no correlation to our dependent variable\n",
    " - **name**: the name of each passenger is unique\n",
    " - **Row**: same as for name\n",
    " - **Ticket**: same as for name \n",
    " - **home.dest**: the survive probability of a passenger does not rely on that variable\n",
    " - **cabin**: Cabin Category is sufficent"
   ]
  },
  {
   "cell_type": "code",
   "execution_count": 207,
   "metadata": {},
   "outputs": [],
   "source": [
    "df.drop(columns=['name','row ID','ticket','home.dest','cabin'],inplace=True)"
   ]
  },
  {
   "attachments": {},
   "cell_type": "markdown",
   "metadata": {},
   "source": [
    "#### b) Null values:\n",
    " - 90% of the recordes do not have the variable 'body' : we drop variable, same as for  boat (63%) and cabinCategory(77%)\n"
   ]
  },
  {
   "cell_type": "code",
   "execution_count": 208,
   "metadata": {},
   "outputs": [
    {
     "data": {
      "text/plain": [
       "0.907563025210084"
      ]
     },
     "execution_count": 208,
     "metadata": {},
     "output_type": "execute_result"
    }
   ],
   "source": [
    "df['body'].isna().sum()/len(df['body'])"
   ]
  },
  {
   "cell_type": "code",
   "execution_count": 209,
   "metadata": {},
   "outputs": [
    {
     "data": {
      "text/plain": [
       "0.6287242169595111"
      ]
     },
     "execution_count": 209,
     "metadata": {},
     "output_type": "execute_result"
    }
   ],
   "source": [
    "df['boat'].isna().sum()/len(df['boat'])"
   ]
  },
  {
   "cell_type": "code",
   "execution_count": 210,
   "metadata": {},
   "outputs": [
    {
     "data": {
      "text/plain": [
       "0.774637127578304"
      ]
     },
     "execution_count": 210,
     "metadata": {},
     "output_type": "execute_result"
    }
   ],
   "source": [
    "df['cabinCategory'].isna().sum()/len(df['cabinCategory'])"
   ]
  },
  {
   "cell_type": "code",
   "execution_count": 211,
   "metadata": {},
   "outputs": [],
   "source": [
    "df.drop(columns=['body','boat','cabinCategory'],inplace=True)"
   ]
  },
  {
   "cell_type": "markdown",
   "metadata": {},
   "source": [
    "- 20% of the age variable is missing, as is it not too much missing values, I decided to fill the values using a linear interpolation"
   ]
  },
  {
   "cell_type": "code",
   "execution_count": 212,
   "metadata": {},
   "outputs": [],
   "source": [
    "df['age'].isna().sum()/len(df['age'])\n",
    "df['age'].interpolate(method='linear',inplace=True)"
   ]
  },
  {
   "attachments": {},
   "cell_type": "markdown",
   "metadata": {},
   "source": [
    "- same for the remaining 3 missing values : \n",
    "    - 1 Fare :linear interpolation\n",
    "    - 2 embarked : with the mode "
   ]
  },
  {
   "cell_type": "code",
   "execution_count": 213,
   "metadata": {},
   "outputs": [
    {
     "data": {
      "text/html": [
       "<div>\n",
       "<style scoped>\n",
       "    .dataframe tbody tr th:only-of-type {\n",
       "        vertical-align: middle;\n",
       "    }\n",
       "\n",
       "    .dataframe tbody tr th {\n",
       "        vertical-align: top;\n",
       "    }\n",
       "\n",
       "    .dataframe thead th {\n",
       "        text-align: right;\n",
       "    }\n",
       "</style>\n",
       "<table border=\"1\" class=\"dataframe\">\n",
       "  <thead>\n",
       "    <tr style=\"text-align: right;\">\n",
       "      <th></th>\n",
       "      <th>pclass</th>\n",
       "      <th>survived</th>\n",
       "      <th>sex</th>\n",
       "      <th>age</th>\n",
       "      <th>sibsp</th>\n",
       "      <th>parch</th>\n",
       "      <th>fare</th>\n",
       "      <th>embarked</th>\n",
       "    </tr>\n",
       "  </thead>\n",
       "  <tbody>\n",
       "    <tr>\n",
       "      <th>168</th>\n",
       "      <td>1</td>\n",
       "      <td>yes</td>\n",
       "      <td>female</td>\n",
       "      <td>38.0</td>\n",
       "      <td>0</td>\n",
       "      <td>0</td>\n",
       "      <td>80.0</td>\n",
       "      <td>NaN</td>\n",
       "    </tr>\n",
       "    <tr>\n",
       "      <th>284</th>\n",
       "      <td>1</td>\n",
       "      <td>yes</td>\n",
       "      <td>female</td>\n",
       "      <td>62.0</td>\n",
       "      <td>0</td>\n",
       "      <td>0</td>\n",
       "      <td>80.0</td>\n",
       "      <td>NaN</td>\n",
       "    </tr>\n",
       "    <tr>\n",
       "      <th>1225</th>\n",
       "      <td>3</td>\n",
       "      <td>no</td>\n",
       "      <td>male</td>\n",
       "      <td>60.5</td>\n",
       "      <td>0</td>\n",
       "      <td>0</td>\n",
       "      <td>NaN</td>\n",
       "      <td>S</td>\n",
       "    </tr>\n",
       "  </tbody>\n",
       "</table>\n",
       "</div>"
      ],
      "text/plain": [
       "      pclass survived     sex   age  sibsp  parch  fare embarked\n",
       "168        1      yes  female  38.0      0      0  80.0      NaN\n",
       "284        1      yes  female  62.0      0      0  80.0      NaN\n",
       "1225       3       no    male  60.5      0      0   NaN        S"
      ]
     },
     "execution_count": 213,
     "metadata": {},
     "output_type": "execute_result"
    }
   ],
   "source": [
    "df[df.isnull().any(axis=1)]\n"
   ]
  },
  {
   "cell_type": "code",
   "execution_count": 214,
   "metadata": {},
   "outputs": [],
   "source": [
    "df['embarked'].fillna(df['embarked'].mode()[0],inplace=True)\n",
    "df['fare'].interpolate(method='linear',inplace=True)"
   ]
  },
  {
   "attachments": {},
   "cell_type": "markdown",
   "metadata": {},
   "source": [
    "- No more missing values in the dataset "
   ]
  },
  {
   "cell_type": "code",
   "execution_count": 215,
   "metadata": {},
   "outputs": [
    {
     "data": {
      "text/plain": [
       "0"
      ]
     },
     "execution_count": 215,
     "metadata": {},
     "output_type": "execute_result"
    }
   ],
   "source": [
    "df.isnull().any(axis=1).sum()"
   ]
  },
  {
   "attachments": {},
   "cell_type": "markdown",
   "metadata": {},
   "source": [
    "### 3) Data Analysis and Transformation "
   ]
  },
  {
   "attachments": {},
   "cell_type": "markdown",
   "metadata": {},
   "source": [
    "#### a) Convert survived and sex into binary classes :\n",
    " - **survived**:  \n",
    "    - 1 = survived\n",
    "    - 0 = Did not survived\n",
    "- **sex**:\n",
    "    - 1 = male\n",
    "    - 0 = female\n",
    "    "
   ]
  },
  {
   "cell_type": "code",
   "execution_count": 216,
   "metadata": {},
   "outputs": [],
   "source": [
    "df['survived']=df['survived'].apply(lambda x : 1 if x=='yes'else 0)\n",
    "df['sex']=df['sex'].apply(lambda x : 1 if x=='male'else 0)"
   ]
  },
  {
   "cell_type": "code",
   "execution_count": 217,
   "metadata": {},
   "outputs": [
    {
     "data": {
      "image/png": "[encoded data removed]",
      "text/plain": [
       "<Figure size 432x288 with 1 Axes>"
      ]
     },
     "metadata": {},
     "output_type": "display_data"
    }
   ],
   "source": [
    "df.survived.value_counts().plot(kind='pie',autopct='%1.1f%%')\n",
    "plt.legend([\"No\", \"Yes\"]).set_title('Survived?')"
   ]
  },
  {
   "attachments": {},
   "cell_type": "markdown",
   "metadata": {},
   "source": [
    "#### b) Correlation matrix: \n",
    "- Most correlated variables with passenger survival:\n",
    "    - Sex\n",
    "    - pclass and fare"
   ]
  },
  {
   "cell_type": "code",
   "execution_count": 218,
   "metadata": {},
   "outputs": [
    {
     "data": {
      "text/plain": [
       "<AxesSubplot:>"
      ]
     },
     "execution_count": 218,
     "metadata": {},
     "output_type": "execute_result"
    },
    {
     "data": {
      "image/png": "[encoded data removed]",
      "text/plain": [
       "<Figure size 432x288 with 2 Axes>"
      ]
     },
     "metadata": {
      "needs_background": "light"
     },
     "output_type": "display_data"
    }
   ],
   "source": [
    "numerical_var=df.select_dtypes(include=np.number)\n",
    "sns.heatmap(numerical_var.corr(),vmin=-1, vmax=1, annot=True)"
   ]
  },
  {
   "attachments": {},
   "cell_type": "markdown",
   "metadata": {},
   "source": [
    "#### c) Zoom in Age category\n",
    "\n",
    "Create a categorical variable from the age. The categories are as follows: \n",
    " - **0-2y** = baby\n",
    " - **2-5y** = toddler\n",
    " - **5-12y** = child\n",
    " - **12-18y** = teen\n",
    " - **18-30y** = young adult\n",
    " - **30-45y** = adult\n",
    " - **45-60y** = middle aged\n",
    " - **60-100y** = senior\n",
    "\n",
    "\n"
   ]
  },
  {
   "cell_type": "code",
   "execution_count": 219,
   "metadata": {},
   "outputs": [],
   "source": [
    "bins = [0, 2, 5, 12, 18, 30, 45, 60, 100]\n",
    "labels = ['baby', 'toddler', 'child', 'teen', 'young adult', 'adult', 'middle aged', 'senior']\n",
    "df['age_interval'] = pd.cut(df['age'], bins, labels=labels)"
   ]
  },
  {
   "cell_type": "code",
   "execution_count": 220,
   "metadata": {},
   "outputs": [
    {
     "data": {
      "text/plain": [
       "young adult    558\n",
       "adult          365\n",
       "middle aged    137\n",
       "teen           118\n",
       "child           40\n",
       "baby            34\n",
       "senior          34\n",
       "toddler         23\n",
       "Name: age_interval, dtype: int64"
      ]
     },
     "execution_count": 220,
     "metadata": {},
     "output_type": "execute_result"
    }
   ],
   "source": [
    "df['age_interval'].value_counts()"
   ]
  },
  {
   "attachments": {},
   "cell_type": "markdown",
   "metadata": {},
   "source": [
    "Plot of the Age distribution of the survivors"
   ]
  },
  {
   "cell_type": "code",
   "execution_count": 221,
   "metadata": {},
   "outputs": [
    {
     "data": {
      "image/png": "[encoded data removed]",
      "text/plain": [
       "<Figure size 432x288 with 1 Axes>"
      ]
     },
     "metadata": {
      "needs_background": "light"
     },
     "output_type": "display_data"
    }
   ],
   "source": [
    "counts = df.groupby(['age_interval', 'survived'])['survived'].count().reset_index(name='count')\n",
    "counts = counts.pivot(index='age_interval', columns='survived', values='count')\n",
    "counts.plot.barh(stacked=True,title='Age distribution of survivors',color=['red', 'green'])\n",
    "plt.legend([\"No\", \"Yes\"]).set_title('Survived?')"
   ]
  },
  {
   "attachments": {},
   "cell_type": "markdown",
   "metadata": {},
   "source": [
    "#### d) Zoom in Gender category\n",
    "\n",
    "\n",
    "Plot of the Gender distribution of the survivors"
   ]
  },
  {
   "cell_type": "code",
   "execution_count": 222,
   "metadata": {},
   "outputs": [
    {
     "data": {
      "image/png": "[encoded data removed]",
      "text/plain": [
       "<Figure size 432x288 with 1 Axes>"
      ]
     },
     "metadata": {
      "needs_background": "light"
     },
     "output_type": "display_data"
    }
   ],
   "source": [
    "counts=df.groupby(['sex','survived'])['survived'].count().reset_index(name='count')\n",
    "counts = counts.pivot(index='sex', columns='survived', values='count')\n",
    "counts.rename({0:'female',1:'male'},inplace=True)\n",
    "counts.plot.barh(stacked=True,title='Gender distribution of survivors',color=['red', 'green'])\n",
    "df_total = counts[0] + counts[1]\n",
    "df_rel = counts[counts.columns[1:]].div(df_total, 0)*100\n",
    "for n in df_rel:\n",
    "    for i, (cs, ab, pc) in enumerate(zip(reversed(counts.iloc[:, 1:].cumsum(1)[n]), \n",
    "                                         reversed(counts[n]), reversed(df_rel[n]))):\n",
    "        plt.text(cs+ab/2  , i, str(np.round(100-pc, 1)) + '% survivors', \n",
    "                 va = 'center', ha = 'center')\n",
    "plt.legend([\"No\", \"Yes\"]).set_title('Survived?')\n",
    "\n"
   ]
  },
  {
   "attachments": {},
   "cell_type": "markdown",
   "metadata": {},
   "source": [
    "#### e) Zoom in pclass & fare category\n",
    "Plot Survival probability per passenger class"
   ]
  },
  {
   "cell_type": "code",
   "execution_count": 223,
   "metadata": {},
   "outputs": [
    {
     "data": {
      "image/png": "[encoded data removed]",
      "text/plain": [
       "<Figure size 432x288 with 1 Axes>"
      ]
     },
     "metadata": {
      "needs_background": "light"
     },
     "output_type": "display_data"
    }
   ],
   "source": [
    "counts=df.groupby('pclass')['survived'].apply(lambda x : x.sum()/len(x)).plot(kind='barh',title=\"Survival probability per passenger class\")\n"
   ]
  },
  {
   "attachments": {},
   "cell_type": "markdown",
   "metadata": {},
   "source": [
    "Boxplot of fare category : \n",
    "- Right Skewed "
   ]
  },
  {
   "cell_type": "code",
   "execution_count": 224,
   "metadata": {},
   "outputs": [
    {
     "data": {
      "text/plain": [
       "<AxesSubplot:>"
      ]
     },
     "execution_count": 224,
     "metadata": {},
     "output_type": "execute_result"
    },
    {
     "data": {
      "image/png": "[encoded data removed]",
      "text/plain": [
       "<Figure size 432x288 with 1 Axes>"
      ]
     },
     "metadata": {
      "needs_background": "light"
     },
     "output_type": "display_data"
    }
   ],
   "source": [
    "df.boxplot(column=['fare'])"
   ]
  },
  {
   "attachments": {},
   "cell_type": "markdown",
   "metadata": {},
   "source": [
    "Indeeed, most of the fare are between 0 and 100$"
   ]
  },
  {
   "cell_type": "code",
   "execution_count": 225,
   "metadata": {},
   "outputs": [
    {
     "data": {
      "text/plain": [
       "<AxesSubplot:ylabel='Density'>"
      ]
     },
     "execution_count": 225,
     "metadata": {},
     "output_type": "execute_result"
    },
    {
     "data": {
      "image/png": "[encoded data removed]",
      "text/plain": [
       "<Figure size 432x288 with 1 Axes>"
      ]
     },
     "metadata": {
      "needs_background": "light"
     },
     "output_type": "display_data"
    }
   ],
   "source": [
    "df['fare'].plot.density(ind=np.linspace(-20, 550, 700))\n"
   ]
  },
  {
   "attachments": {},
   "cell_type": "markdown",
   "metadata": {},
   "source": [
    "Solution : convert values with log.\n",
    "- Better repartition"
   ]
  },
  {
   "cell_type": "code",
   "execution_count": 226,
   "metadata": {},
   "outputs": [
    {
     "data": {
      "text/plain": [
       "<AxesSubplot:ylabel='Density'>"
      ]
     },
     "execution_count": 226,
     "metadata": {},
     "output_type": "execute_result"
    },
    {
     "data": {
      "image/png": "[encoded data removed]",
      "text/plain": [
       "<Figure size 432x288 with 1 Axes>"
      ]
     },
     "metadata": {
      "needs_background": "light"
     },
     "output_type": "display_data"
    }
   ],
   "source": [
    "df['log_fare']=df['fare'].apply(lambda x: np.log(x) if x!=0 else 0)\n",
    "df['log_fare'].plot.density()\n"
   ]
  },
  {
   "attachments": {},
   "cell_type": "markdown",
   "metadata": {},
   "source": [
    "new plot of the correlation matrix \n",
    "\n",
    "- increase of the correlation between fare (with log) and survied category. (0.24 -> 0.31)"
   ]
  },
  {
   "cell_type": "code",
   "execution_count": 227,
   "metadata": {},
   "outputs": [
    {
     "data": {
      "text/plain": [
       "<AxesSubplot:>"
      ]
     },
     "execution_count": 227,
     "metadata": {},
     "output_type": "execute_result"
    },
    {
     "data": {
      "image/png": "[encoded data removed]",
      "text/plain": [
       "<Figure size 432x288 with 2 Axes>"
      ]
     },
     "metadata": {
      "needs_background": "light"
     },
     "output_type": "display_data"
    }
   ],
   "source": [
    "numerical_var=df.select_dtypes(include=np.number)\n",
    "sns.heatmap(numerical_var.corr(),vmin=-1, vmax=1, annot=True)"
   ]
  },
  {
   "attachments": {},
   "cell_type": "markdown",
   "metadata": {},
   "source": [
    "### 4) Model Selection\n",
    "#### a) Prepare the data"
   ]
  },
  {
   "attachments": {},
   "cell_type": "markdown",
   "metadata": {},
   "source": [
    "Get dummies from categorical variables. \n",
    "- We drop age_interval because we already have the age variable\n",
    "- We use the drop_first parameter to get rid of useless variables and reduce colinearity"
   ]
  },
  {
   "cell_type": "code",
   "execution_count": 228,
   "metadata": {},
   "outputs": [],
   "source": [
    "all_var=pd.get_dummies(df.drop('age_interval',axis=1),drop_first=True)"
   ]
  },
  {
   "cell_type": "code",
   "execution_count": 229,
   "metadata": {},
   "outputs": [],
   "source": [
    "X,y=all_var.drop(\"survived\",axis=1),all_var['survived']"
   ]
  },
  {
   "attachments": {},
   "cell_type": "markdown",
   "metadata": {},
   "source": [
    "We Standarize the data for fast calculation and best scores "
   ]
  },
  {
   "cell_type": "code",
   "execution_count": 230,
   "metadata": {},
   "outputs": [],
   "source": [
    "scaler = StandardScaler().fit(X)\n",
    "X_scaled = scaler.transform(X)\n",
    "#nTest_scaled = scaler.transform(nTest)"
   ]
  },
  {
   "attachments": {},
   "cell_type": "markdown",
   "metadata": {},
   "source": [
    "Train Test Split"
   ]
  },
  {
   "cell_type": "code",
   "execution_count": 231,
   "metadata": {},
   "outputs": [],
   "source": [
    "X_train, X_test, y_train, y_test = train_test_split( X_scaled, y, test_size=0.20, random_state=rand_state)"
   ]
  },
  {
   "attachments": {},
   "cell_type": "markdown",
   "metadata": {},
   "source": [
    "#### b) Try differents models\n",
    "- We create a function that takes several ML model as inputs and gives a dataframe with :\n",
    " - The train Accuracy\n",
    " - The test Accuracy\n",
    " - The Cross Validation mean Accuracy\n",
    " - THe saved model"
   ]
  },
  {
   "cell_type": "code",
   "execution_count": 232,
   "metadata": {},
   "outputs": [],
   "source": [
    "\n",
    "def get_metrics(models):\n",
    "    results=pd.DataFrame()\n",
    "    for m in tqdm(models):\n",
    "        res={}\n",
    "        res['Model']=str(m) \n",
    "        model=m.fit(X_train,y_train)\n",
    "        y_pred=m.predict(X_test)\n",
    "        res['Acc_Train']=m.score(X_train,y_train)\n",
    "        res['Acc_Test']=accuracy_score(y_test,y_pred)\n",
    "        res['Cross_val']=cross_val_score(m, X_scaled, y, cv=10).mean()\n",
    "        res['saved_model']=m\n",
    "        results=results.append(res,ignore_index=True)\n",
    "    return results "
   ]
  },
  {
   "attachments": {},
   "cell_type": "markdown",
   "metadata": {},
   "source": [
    "First Attempt : without hyperparameters"
   ]
  },
  {
   "cell_type": "code",
   "execution_count": 233,
   "metadata": {},
   "outputs": [
    {
     "name": "stderr",
     "output_type": "stream",
     "text": [
      "100%|██████████| 7/7 [00:18<00:00,  2.63s/it]\n"
     ]
    },
    {
     "data": {
      "text/html": [
       "<div>\n",
       "<style scoped>\n",
       "    .dataframe tbody tr th:only-of-type {\n",
       "        vertical-align: middle;\n",
       "    }\n",
       "\n",
       "    .dataframe tbody tr th {\n",
       "        vertical-align: top;\n",
       "    }\n",
       "\n",
       "    .dataframe thead th {\n",
       "        text-align: right;\n",
       "    }\n",
       "</style>\n",
       "<table border=\"1\" class=\"dataframe\">\n",
       "  <thead>\n",
       "    <tr style=\"text-align: right;\">\n",
       "      <th></th>\n",
       "      <th>Model</th>\n",
       "      <th>Acc_Train</th>\n",
       "      <th>Acc_Test</th>\n",
       "      <th>Cross_val</th>\n",
       "      <th>saved_model</th>\n",
       "    </tr>\n",
       "  </thead>\n",
       "  <tbody>\n",
       "    <tr>\n",
       "      <th>0</th>\n",
       "      <td>RandomForestClassifier(random_state=25)</td>\n",
       "      <td>0.983763</td>\n",
       "      <td>0.759542</td>\n",
       "      <td>0.742531</td>\n",
       "      <td>(DecisionTreeClassifier(max_features='auto', r...</td>\n",
       "    </tr>\n",
       "    <tr>\n",
       "      <th>1</th>\n",
       "      <td>GaussianNB()</td>\n",
       "      <td>0.768863</td>\n",
       "      <td>0.755725</td>\n",
       "      <td>0.711961</td>\n",
       "      <td>GaussianNB()</td>\n",
       "    </tr>\n",
       "    <tr>\n",
       "      <th>2</th>\n",
       "      <td>DecisionTreeClassifier(random_state=25)</td>\n",
       "      <td>0.983763</td>\n",
       "      <td>0.751908</td>\n",
       "      <td>0.720370</td>\n",
       "      <td>DecisionTreeClassifier(random_state=25)</td>\n",
       "    </tr>\n",
       "    <tr>\n",
       "      <th>3</th>\n",
       "      <td>KNeighborsClassifier()</td>\n",
       "      <td>0.859599</td>\n",
       "      <td>0.751908</td>\n",
       "      <td>0.751644</td>\n",
       "      <td>KNeighborsClassifier()</td>\n",
       "    </tr>\n",
       "    <tr>\n",
       "      <th>4</th>\n",
       "      <td>LogisticRegression(random_state=25)</td>\n",
       "      <td>0.803247</td>\n",
       "      <td>0.774809</td>\n",
       "      <td>0.762402</td>\n",
       "      <td>LogisticRegression(random_state=25)</td>\n",
       "    </tr>\n",
       "    <tr>\n",
       "      <th>5</th>\n",
       "      <td>SVC(probability=True, random_state=25)</td>\n",
       "      <td>0.825215</td>\n",
       "      <td>0.790076</td>\n",
       "      <td>0.760857</td>\n",
       "      <td>SVC(probability=True, random_state=25)</td>\n",
       "    </tr>\n",
       "    <tr>\n",
       "      <th>6</th>\n",
       "      <td>&lt;catboost.core.CatBoostClassifier object at 0x...</td>\n",
       "      <td>0.887297</td>\n",
       "      <td>0.790076</td>\n",
       "      <td>0.773829</td>\n",
       "      <td>&lt;catboost.core.CatBoostClassifier object at 0x...</td>\n",
       "    </tr>\n",
       "  </tbody>\n",
       "</table>\n",
       "</div>"
      ],
      "text/plain": [
       "                                               Model  Acc_Train  Acc_Test  \\\n",
       "0            RandomForestClassifier(random_state=25)   0.983763  0.759542   \n",
       "1                                       GaussianNB()   0.768863  0.755725   \n",
       "2            DecisionTreeClassifier(random_state=25)   0.983763  0.751908   \n",
       "3                             KNeighborsClassifier()   0.859599  0.751908   \n",
       "4                LogisticRegression(random_state=25)   0.803247  0.774809   \n",
       "5             SVC(probability=True, random_state=25)   0.825215  0.790076   \n",
       "6  <catboost.core.CatBoostClassifier object at 0x...   0.887297  0.790076   \n",
       "\n",
       "   Cross_val                                        saved_model  \n",
       "0   0.742531  (DecisionTreeClassifier(max_features='auto', r...  \n",
       "1   0.711961                                       GaussianNB()  \n",
       "2   0.720370            DecisionTreeClassifier(random_state=25)  \n",
       "3   0.751644                             KNeighborsClassifier()  \n",
       "4   0.762402                LogisticRegression(random_state=25)  \n",
       "5   0.760857             SVC(probability=True, random_state=25)  \n",
       "6   0.773829  <catboost.core.CatBoostClassifier object at 0x...  "
      ]
     },
     "execution_count": 233,
     "metadata": {},
     "output_type": "execute_result"
    }
   ],
   "source": [
    "models= [\n",
    "    RandomForestClassifier(random_state=rand_state),\n",
    "    GaussianNB(),\n",
    "    DecisionTreeClassifier(random_state=rand_state),\n",
    "    KNeighborsClassifier(),\n",
    "    LogisticRegression(random_state=rand_state),\n",
    "    SVC(probability=True,random_state=rand_state),\n",
    "    CatBoostClassifier(verbose=0,random_state=rand_state)]\n",
    "results =get_metrics(models)\n",
    "results"
   ]
  },
  {
   "cell_type": "code",
   "execution_count": 234,
   "metadata": {},
   "outputs": [
    {
     "data": {
      "text/plain": [
       "<AxesSubplot:ylabel='Model'>"
      ]
     },
     "execution_count": 234,
     "metadata": {},
     "output_type": "execute_result"
    },
    {
     "data": {
      "image/png": "[encoded data removed]",
      "text/plain": [
       "<Figure size 432x288 with 1 Axes>"
      ]
     },
     "metadata": {
      "needs_background": "light"
     },
     "output_type": "display_data"
    }
   ],
   "source": [
    "results.plot(x='Model',y=['Acc_Train','Acc_Test','Cross_val'],kind='barh')"
   ]
  },
  {
   "attachments": {},
   "cell_type": "markdown",
   "metadata": {},
   "source": [
    "Overfitting problem : Huge difference bewteen the accuracy of the training and testing phase for the following methods: \n",
    "- RandomForest\n",
    "- DecisionTree\n",
    "- KNeighboors\n",
    "- Catboost\n",
    "\n",
    "SVC has the best performance. Let's keep it as a referential and look closer to Tree bases models "
   ]
  },
  {
   "cell_type": "code",
   "execution_count": 235,
   "metadata": {},
   "outputs": [
    {
     "data": {
      "text/plain": [
       "[Text(113.70639070371537, 211.7178947368421, 'X[1] <= -0.301\\ngini = 0.471\\nsamples = 1047\\nvalue = [649, 398]'),\n",
       " Text(55.409083753148614, 200.2736842105263, 'X[0] <= 0.245\\ngini = 0.4\\nsamples = 376\\nvalue = [104, 272]'),\n",
       " Text(20.450629722921914, 188.82947368421054, 'X[5] <= -0.138\\ngini = 0.13\\nsamples = 201\\nvalue = [14, 187]'),\n",
       " Text(13.91486146095718, 177.38526315789474, 'X[2] <= 1.948\\ngini = 0.285\\nsamples = 64\\nvalue = [11, 53]'),\n",
       " Text(12.228211586901764, 165.94105263157894, 'X[3] <= 0.001\\ngini = 0.248\\nsamples = 62\\nvalue = [9, 53]'),\n",
       " Text(6.746599496221663, 154.49684210526317, 'X[4] <= 0.133\\ngini = 0.176\\nsamples = 41\\nvalue = [4, 37]'),\n",
       " Text(5.059949622166247, 143.05263157894737, 'X[6] <= -0.357\\ngini = 0.225\\nsamples = 31\\nvalue = [4, 27]'),\n",
       " Text(3.3732997481108313, 131.60842105263157, 'gini = 0.0\\nsamples = 10\\nvalue = [0, 10]'),\n",
       " Text(6.746599496221663, 131.60842105263157, 'X[2] <= -0.293\\ngini = 0.308\\nsamples = 21\\nvalue = [4, 17]'),\n",
       " Text(3.3732997481108313, 120.16421052631578, 'X[2] <= -0.608\\ngini = 0.5\\nsamples = 4\\nvalue = [2, 2]'),\n",
       " Text(1.6866498740554157, 108.72, 'gini = 0.0\\nsamples = 2\\nvalue = [0, 2]'),\n",
       " Text(5.059949622166247, 108.72, 'gini = 0.0\\nsamples = 2\\nvalue = [2, 0]'),\n",
       " Text(10.119899244332494, 120.16421052631578, 'X[5] <= -0.387\\ngini = 0.208\\nsamples = 17\\nvalue = [2, 15]'),\n",
       " Text(8.433249370277078, 108.72, 'X[2] <= 0.688\\ngini = 0.32\\nsamples = 10\\nvalue = [2, 8]'),\n",
       " Text(6.746599496221663, 97.27578947368421, 'X[2] <= 0.54\\ngini = 0.375\\nsamples = 8\\nvalue = [2, 6]'),\n",
       " Text(5.059949622166247, 85.83157894736843, 'X[2] <= 0.114\\ngini = 0.245\\nsamples = 7\\nvalue = [1, 6]'),\n",
       " Text(3.3732997481108313, 74.38736842105263, 'X[2] <= -0.052\\ngini = 0.444\\nsamples = 3\\nvalue = [1, 2]'),\n",
       " Text(1.6866498740554157, 62.943157894736856, 'gini = 0.0\\nsamples = 1\\nvalue = [0, 1]'),\n",
       " Text(5.059949622166247, 62.943157894736856, 'gini = 0.5\\nsamples = 2\\nvalue = [1, 1]'),\n",
       " Text(6.746599496221663, 74.38736842105263, 'gini = 0.0\\nsamples = 4\\nvalue = [0, 4]'),\n",
       " Text(8.433249370277078, 85.83157894736843, 'gini = 0.0\\nsamples = 1\\nvalue = [1, 0]'),\n",
       " Text(10.119899244332494, 97.27578947368421, 'gini = 0.0\\nsamples = 2\\nvalue = [0, 2]'),\n",
       " Text(11.80654911838791, 108.72, 'gini = 0.0\\nsamples = 7\\nvalue = [0, 7]'),\n",
       " Text(8.433249370277078, 143.05263157894737, 'gini = 0.0\\nsamples = 10\\nvalue = [0, 10]'),\n",
       " Text(17.709823677581866, 154.49684210526317, 'X[6] <= -0.312\\ngini = 0.363\\nsamples = 21\\nvalue = [5, 16]'),\n",
       " Text(16.023173803526447, 143.05263157894737, 'gini = 0.0\\nsamples = 1\\nvalue = [1, 0]'),\n",
       " Text(19.39647355163728, 143.05263157894737, 'X[2] <= -0.349\\ngini = 0.32\\nsamples = 20\\nvalue = [4, 16]'),\n",
       " Text(17.709823677581866, 131.60842105263157, 'gini = 0.0\\nsamples = 6\\nvalue = [0, 6]'),\n",
       " Text(21.083123425692698, 131.60842105263157, 'X[2] <= -0.163\\ngini = 0.408\\nsamples = 14\\nvalue = [4, 10]'),\n",
       " Text(16.866498740554157, 120.16421052631578, 'X[8] <= -0.436\\ngini = 0.444\\nsamples = 3\\nvalue = [2, 1]'),\n",
       " Text(15.179848866498741, 108.72, 'gini = 0.0\\nsamples = 1\\nvalue = [0, 1]'),\n",
       " Text(18.553148614609572, 108.72, 'gini = 0.0\\nsamples = 2\\nvalue = [2, 0]'),\n",
       " Text(25.299748110831235, 120.16421052631578, 'X[2] <= 0.985\\ngini = 0.298\\nsamples = 11\\nvalue = [2, 9]'),\n",
       " Text(21.926448362720404, 108.72, 'X[2] <= -0.015\\ngini = 0.198\\nsamples = 9\\nvalue = [1, 8]'),\n",
       " Text(20.239798488664988, 97.27578947368421, 'X[2] <= -0.089\\ngini = 0.32\\nsamples = 5\\nvalue = [1, 4]'),\n",
       " Text(18.553148614609572, 85.83157894736843, 'gini = 0.0\\nsamples = 2\\nvalue = [0, 2]'),\n",
       " Text(21.926448362720404, 85.83157894736843, 'gini = 0.444\\nsamples = 3\\nvalue = [1, 2]'),\n",
       " Text(23.61309823677582, 97.27578947368421, 'gini = 0.0\\nsamples = 4\\nvalue = [0, 4]'),\n",
       " Text(28.673047858942066, 108.72, 'X[2] <= 1.466\\ngini = 0.5\\nsamples = 2\\nvalue = [1, 1]'),\n",
       " Text(26.98639798488665, 97.27578947368421, 'gini = 0.0\\nsamples = 1\\nvalue = [1, 0]'),\n",
       " Text(30.359697732997482, 97.27578947368421, 'gini = 0.0\\nsamples = 1\\nvalue = [0, 1]'),\n",
       " Text(15.601511335012596, 165.94105263157894, 'gini = 0.0\\nsamples = 2\\nvalue = [2, 0]'),\n",
       " Text(26.98639798488665, 177.38526315789474, 'X[2] <= -1.978\\ngini = 0.043\\nsamples = 137\\nvalue = [3, 134]'),\n",
       " Text(22.76977329974811, 165.94105263157894, 'X[0] <= -0.949\\ngini = 0.444\\nsamples = 3\\nvalue = [1, 2]'),\n",
       " Text(21.083123425692698, 154.49684210526317, 'gini = 0.0\\nsamples = 1\\nvalue = [1, 0]'),\n",
       " Text(24.45642317380353, 154.49684210526317, 'gini = 0.0\\nsamples = 2\\nvalue = [0, 2]'),\n",
       " Text(31.20302267002519, 165.94105263157894, 'X[5] <= -0.031\\ngini = 0.029\\nsamples = 134\\nvalue = [2, 132]'),\n",
       " Text(27.82972292191436, 154.49684210526317, 'X[5] <= -0.037\\ngini = 0.1\\nsamples = 19\\nvalue = [1, 18]'),\n",
       " Text(26.14307304785894, 143.05263157894737, 'gini = 0.0\\nsamples = 18\\nvalue = [0, 18]'),\n",
       " Text(29.516372795969772, 143.05263157894737, 'gini = 0.0\\nsamples = 1\\nvalue = [1, 0]'),\n",
       " Text(34.57632241813602, 154.49684210526317, 'X[4] <= 1.289\\ngini = 0.017\\nsamples = 115\\nvalue = [1, 114]'),\n",
       " Text(32.889672544080604, 143.05263157894737, 'gini = 0.0\\nsamples = 96\\nvalue = [0, 96]'),\n",
       " Text(36.262972292191435, 143.05263157894737, 'X[5] <= 1.982\\ngini = 0.1\\nsamples = 19\\nvalue = [1, 18]'),\n",
       " Text(34.57632241813602, 131.60842105263157, 'gini = 0.0\\nsamples = 13\\nvalue = [0, 13]'),\n",
       " Text(37.949622166246854, 131.60842105263157, 'X[6] <= 2.145\\ngini = 0.278\\nsamples = 6\\nvalue = [1, 5]'),\n",
       " Text(36.262972292191435, 120.16421052631578, 'gini = 0.0\\nsamples = 1\\nvalue = [1, 0]'),\n",
       " Text(39.636272040302266, 120.16421052631578, 'gini = 0.0\\nsamples = 5\\nvalue = [0, 5]'),\n",
       " Text(90.36753778337531, 188.82947368421054, 'X[5] <= -0.192\\ngini = 0.5\\nsamples = 175\\nvalue = [90, 85]'),\n",
       " Text(72.78948362720404, 177.38526315789474, 'X[5] <= -0.503\\ngini = 0.493\\nsamples = 148\\nvalue = [65, 83]'),\n",
       " Text(62.195214105793454, 165.94105263157894, 'X[6] <= -0.982\\ngini = 0.165\\nsamples = 11\\nvalue = [1, 10]'),\n",
       " Text(60.508564231738035, 154.49684210526317, 'gini = 0.0\\nsamples = 1\\nvalue = [1, 0]'),\n",
       " Text(63.881863979848866, 154.49684210526317, 'gini = 0.0\\nsamples = 10\\nvalue = [0, 10]'),\n",
       " Text(83.38375314861462, 165.94105263157894, 'X[2] <= -0.073\\ngini = 0.498\\nsamples = 137\\nvalue = [64, 73]'),\n",
       " Text(67.2551637279597, 154.49684210526317, 'X[3] <= 1.922\\ngini = 0.478\\nsamples = 99\\nvalue = [39, 60]'),\n",
       " Text(65.56851385390428, 143.05263157894737, 'X[4] <= 0.133\\ngini = 0.472\\nsamples = 97\\nvalue = [37, 60]'),\n",
       " Text(53.55113350125945, 131.60842105263157, 'X[5] <= -0.487\\ngini = 0.491\\nsamples = 74\\nvalue = [32, 42]'),\n",
       " Text(43.0095717884131, 120.16421052631578, 'X[2] <= -0.23\\ngini = 0.453\\nsamples = 49\\nvalue = [17, 32]'),\n",
       " Text(37.106297229219145, 108.72, 'X[2] <= -0.997\\ngini = 0.408\\nsamples = 42\\nvalue = [12, 30]'),\n",
       " Text(35.41964735516373, 97.27578947368421, 'gini = 0.0\\nsamples = 6\\nvalue = [0, 6]'),\n",
       " Text(38.79294710327456, 97.27578947368421, 'X[2] <= -0.345\\ngini = 0.444\\nsamples = 36\\nvalue = [12, 24]'),\n",
       " Text(37.106297229219145, 85.83157894736843, 'X[2] <= -0.457\\ngini = 0.475\\nsamples = 31\\nvalue = [12, 19]'),\n",
       " Text(35.41964735516373, 74.38736842105263, 'X[2] <= -0.812\\ngini = 0.436\\nsamples = 28\\nvalue = [9, 19]'),\n",
       " Text(28.673047858942066, 62.943157894736856, 'X[8] <= -0.436\\ngini = 0.494\\nsamples = 9\\nvalue = [5, 4]'),\n",
       " Text(25.299748110831235, 51.49894736842106, 'X[6] <= -0.852\\ngini = 0.32\\nsamples = 5\\nvalue = [4, 1]'),\n",
       " Text(23.61309823677582, 40.05473684210526, 'gini = 0.0\\nsamples = 3\\nvalue = [3, 0]'),\n",
       " Text(26.98639798488665, 40.05473684210526, 'X[2] <= -0.918\\ngini = 0.5\\nsamples = 2\\nvalue = [1, 1]'),\n",
       " Text(25.299748110831235, 28.610526315789485, 'gini = 0.0\\nsamples = 1\\nvalue = [0, 1]'),\n",
       " Text(28.673047858942066, 28.610526315789485, 'gini = 0.0\\nsamples = 1\\nvalue = [1, 0]'),\n",
       " Text(32.046347607052894, 51.49894736842106, 'X[6] <= -0.874\\ngini = 0.375\\nsamples = 4\\nvalue = [1, 3]'),\n",
       " Text(30.359697732997482, 40.05473684210526, 'gini = 0.0\\nsamples = 1\\nvalue = [0, 1]'),\n",
       " Text(33.73299748110831, 40.05473684210526, 'X[6] <= -0.839\\ngini = 0.444\\nsamples = 3\\nvalue = [1, 2]'),\n",
       " Text(32.046347607052894, 28.610526315789485, 'gini = 0.5\\nsamples = 2\\nvalue = [1, 1]'),\n",
       " Text(35.41964735516373, 28.610526315789485, 'gini = 0.0\\nsamples = 1\\nvalue = [0, 1]'),\n",
       " Text(42.166246851385395, 62.943157894736856, 'X[5] <= -0.494\\ngini = 0.332\\nsamples = 19\\nvalue = [4, 15]'),\n",
       " Text(40.479596977329976, 51.49894736842106, 'gini = 0.0\\nsamples = 4\\nvalue = [0, 4]'),\n",
       " Text(43.85289672544081, 51.49894736842106, 'X[2] <= -0.518\\ngini = 0.391\\nsamples = 15\\nvalue = [4, 11]'),\n",
       " Text(40.479596977329976, 40.05473684210526, 'X[2] <= -0.608\\ngini = 0.298\\nsamples = 11\\nvalue = [2, 9]'),\n",
       " Text(38.79294710327456, 28.610526315789485, 'X[2] <= -0.722\\ngini = 0.48\\nsamples = 5\\nvalue = [2, 3]'),\n",
       " Text(37.106297229219145, 17.166315789473686, 'gini = 0.0\\nsamples = 3\\nvalue = [0, 3]'),\n",
       " Text(40.479596977329976, 17.166315789473686, 'gini = 0.0\\nsamples = 2\\nvalue = [2, 0]'),\n",
       " Text(42.166246851385395, 28.610526315789485, 'gini = 0.0\\nsamples = 6\\nvalue = [0, 6]'),\n",
       " Text(47.22619647355164, 40.05473684210526, 'X[6] <= -0.852\\ngini = 0.5\\nsamples = 4\\nvalue = [2, 2]'),\n",
       " Text(45.53954659949622, 28.610526315789485, 'gini = 0.0\\nsamples = 1\\nvalue = [1, 0]'),\n",
       " Text(48.91284634760706, 28.610526315789485, 'X[5] <= -0.491\\ngini = 0.444\\nsamples = 3\\nvalue = [1, 2]'),\n",
       " Text(47.22619647355164, 17.166315789473686, 'gini = 0.0\\nsamples = 1\\nvalue = [0, 1]'),\n",
       " Text(50.59949622166247, 17.166315789473686, 'X[5] <= -0.489\\ngini = 0.5\\nsamples = 2\\nvalue = [1, 1]'),\n",
       " Text(48.91284634760706, 5.722105263157886, 'gini = 0.0\\nsamples = 1\\nvalue = [1, 0]'),\n",
       " Text(52.28614609571788, 5.722105263157886, 'gini = 0.0\\nsamples = 1\\nvalue = [0, 1]'),\n",
       " Text(38.79294710327456, 74.38736842105263, 'gini = 0.0\\nsamples = 3\\nvalue = [3, 0]'),\n",
       " Text(40.479596977329976, 85.83157894736843, 'gini = 0.0\\nsamples = 5\\nvalue = [0, 5]'),\n",
       " Text(48.91284634760706, 108.72, 'X[5] <= -0.493\\ngini = 0.408\\nsamples = 7\\nvalue = [5, 2]'),\n",
       " Text(45.53954659949622, 97.27578947368421, 'X[2] <= -0.118\\ngini = 0.5\\nsamples = 2\\nvalue = [1, 1]'),\n",
       " Text(43.85289672544081, 85.83157894736843, 'gini = 0.0\\nsamples = 1\\nvalue = [0, 1]'),\n",
       " Text(47.22619647355164, 85.83157894736843, 'gini = 0.0\\nsamples = 1\\nvalue = [1, 0]'),\n",
       " Text(52.28614609571788, 97.27578947368421, 'X[6] <= -0.839\\ngini = 0.32\\nsamples = 5\\nvalue = [4, 1]'),\n",
       " Text(50.59949622166247, 85.83157894736843, 'gini = 0.0\\nsamples = 3\\nvalue = [3, 0]'),\n",
       " Text(53.9727959697733, 85.83157894736843, 'X[3] <= 0.001\\ngini = 0.5\\nsamples = 2\\nvalue = [1, 1]'),\n",
       " Text(52.28614609571788, 74.38736842105263, 'gini = 0.0\\nsamples = 1\\nvalue = [0, 1]'),\n",
       " Text(55.65944584382872, 74.38736842105263, 'gini = 0.0\\nsamples = 1\\nvalue = [1, 0]'),\n",
       " Text(64.09269521410579, 120.16421052631578, 'X[6] <= -0.721\\ngini = 0.48\\nsamples = 25\\nvalue = [15, 10]'),\n",
       " Text(62.40604534005038, 108.72, 'gini = 0.0\\nsamples = 6\\nvalue = [6, 0]'),\n",
       " Text(65.77934508816121, 108.72, 'X[7] <= 1.392\\ngini = 0.499\\nsamples = 19\\nvalue = [9, 10]'),\n",
       " Text(64.09269521410579, 97.27578947368421, 'X[5] <= -0.369\\ngini = 0.492\\nsamples = 16\\nvalue = [9, 7]'),\n",
       " Text(60.719395465994964, 85.83157894736843, 'X[6] <= -0.522\\ngini = 0.408\\nsamples = 7\\nvalue = [2, 5]'),\n",
       " Text(59.032745591939545, 74.38736842105263, 'X[5] <= -0.462\\ngini = 0.5\\nsamples = 4\\nvalue = [2, 2]'),\n",
       " Text(57.34609571788413, 62.943157894736856, 'gini = 0.0\\nsamples = 1\\nvalue = [0, 1]'),\n",
       " Text(60.719395465994964, 62.943157894736856, 'X[2] <= -0.719\\ngini = 0.444\\nsamples = 3\\nvalue = [2, 1]'),\n",
       " Text(59.032745591939545, 51.49894736842106, 'gini = 0.0\\nsamples = 1\\nvalue = [0, 1]'),\n",
       " Text(62.40604534005038, 51.49894736842106, 'gini = 0.0\\nsamples = 2\\nvalue = [2, 0]'),\n",
       " Text(62.40604534005038, 74.38736842105263, 'gini = 0.0\\nsamples = 3\\nvalue = [0, 3]'),\n",
       " Text(67.46599496221663, 85.83157894736843, 'X[2] <= -0.201\\ngini = 0.346\\nsamples = 9\\nvalue = [7, 2]'),\n",
       " Text(65.77934508816121, 74.38736842105263, 'X[2] <= -0.552\\ngini = 0.219\\nsamples = 8\\nvalue = [7, 1]'),\n",
       " Text(64.09269521410579, 62.943157894736856, 'gini = 0.0\\nsamples = 5\\nvalue = [5, 0]'),\n",
       " Text(67.46599496221663, 62.943157894736856, 'X[2] <= -0.361\\ngini = 0.444\\nsamples = 3\\nvalue = [2, 1]'),\n",
       " Text(65.77934508816121, 51.49894736842106, 'gini = 0.0\\nsamples = 1\\nvalue = [0, 1]'),\n",
       " Text(69.15264483627205, 51.49894736842106, 'gini = 0.0\\nsamples = 2\\nvalue = [2, 0]'),\n",
       " Text(69.15264483627205, 74.38736842105263, 'gini = 0.0\\nsamples = 1\\nvalue = [0, 1]'),\n",
       " Text(67.46599496221663, 97.27578947368421, 'gini = 0.0\\nsamples = 3\\nvalue = [0, 3]'),\n",
       " Text(77.58589420654911, 131.60842105263157, 'X[2] <= -1.941\\ngini = 0.34\\nsamples = 23\\nvalue = [5, 18]'),\n",
       " Text(72.52594458438287, 120.16421052631578, 'X[2] <= -2.09\\ngini = 0.469\\nsamples = 8\\nvalue = [3, 5]'),\n",
       " Text(70.83929471032747, 108.72, 'gini = 0.0\\nsamples = 4\\nvalue = [0, 4]'),\n",
       " Text(74.21259445843829, 108.72, 'X[3] <= 0.001\\ngini = 0.375\\nsamples = 4\\nvalue = [3, 1]'),\n",
       " Text(72.52594458438287, 97.27578947368421, 'X[6] <= -0.48\\ngini = 0.5\\nsamples = 2\\nvalue = [1, 1]'),\n",
       " Text(70.83929471032747, 85.83157894736843, 'gini = 0.0\\nsamples = 1\\nvalue = [1, 0]'),\n",
       " Text(74.21259445843829, 85.83157894736843, 'gini = 0.0\\nsamples = 1\\nvalue = [0, 1]'),\n",
       " Text(75.89924433249371, 97.27578947368421, 'gini = 0.0\\nsamples = 2\\nvalue = [2, 0]'),\n",
       " Text(82.64584382871537, 120.16421052631578, 'X[5] <= -0.344\\ngini = 0.231\\nsamples = 15\\nvalue = [2, 13]'),\n",
       " Text(80.95919395465995, 108.72, 'X[6] <= -0.249\\ngini = 0.346\\nsamples = 9\\nvalue = [2, 7]'),\n",
       " Text(79.27254408060453, 97.27578947368421, 'gini = 0.0\\nsamples = 5\\nvalue = [0, 5]'),\n",
       " Text(82.64584382871537, 97.27578947368421, 'X[2] <= -0.24\\ngini = 0.5\\nsamples = 4\\nvalue = [2, 2]'),\n",
       " Text(80.95919395465995, 85.83157894736843, 'X[2] <= -0.96\\ngini = 0.444\\nsamples = 3\\nvalue = [2, 1]'),\n",
       " Text(79.27254408060453, 74.38736842105263, 'gini = 0.5\\nsamples = 2\\nvalue = [1, 1]'),\n",
       " Text(82.64584382871537, 74.38736842105263, 'gini = 0.0\\nsamples = 1\\nvalue = [1, 0]'),\n",
       " Text(84.33249370277079, 85.83157894736843, 'gini = 0.0\\nsamples = 1\\nvalue = [0, 1]'),\n",
       " Text(84.33249370277079, 108.72, 'gini = 0.0\\nsamples = 6\\nvalue = [0, 6]'),\n",
       " Text(68.94181360201512, 143.05263157894737, 'gini = 0.0\\nsamples = 2\\nvalue = [2, 0]'),\n",
       " Text(99.51234256926952, 154.49684210526317, 'X[5] <= -0.34\\ngini = 0.45\\nsamples = 38\\nvalue = [25, 13]'),\n",
       " Text(96.1390428211587, 143.05263157894737, 'X[2] <= 1.874\\ngini = 0.366\\nsamples = 29\\nvalue = [22, 7]'),\n",
       " Text(94.45239294710328, 131.60842105263157, 'X[3] <= 0.001\\ngini = 0.337\\nsamples = 28\\nvalue = [22, 6]'),\n",
       " Text(92.76574307304786, 120.16421052631578, 'X[6] <= -0.21\\ngini = 0.408\\nsamples = 21\\nvalue = [15, 6]'),\n",
       " Text(91.07909319899244, 108.72, 'X[4] <= 0.133\\ngini = 0.375\\nsamples = 20\\nvalue = [15, 5]'),\n",
       " Text(89.39244332493703, 97.27578947368421, 'X[5] <= -0.495\\ngini = 0.415\\nsamples = 17\\nvalue = [12, 5]'),\n",
       " Text(87.70579345088161, 85.83157894736843, 'gini = 0.0\\nsamples = 2\\nvalue = [2, 0]'),\n",
       " Text(91.07909319899244, 85.83157894736843, 'X[6] <= -0.86\\ngini = 0.444\\nsamples = 15\\nvalue = [10, 5]'),\n",
       " Text(89.39244332493703, 74.38736842105263, 'gini = 0.0\\nsamples = 1\\nvalue = [0, 1]'),\n",
       " Text(92.76574307304786, 74.38736842105263, 'X[5] <= -0.49\\ngini = 0.408\\nsamples = 14\\nvalue = [10, 4]'),\n",
       " Text(88.54911838790932, 62.943157894736856, 'X[2] <= 0.255\\ngini = 0.278\\nsamples = 6\\nvalue = [5, 1]'),\n",
       " Text(86.86246851385391, 51.49894736842106, 'X[2] <= 0.107\\ngini = 0.444\\nsamples = 3\\nvalue = [2, 1]'),\n",
       " Text(85.17581863979849, 40.05473684210526, 'gini = 0.0\\nsamples = 2\\nvalue = [2, 0]'),\n",
       " Text(88.54911838790932, 40.05473684210526, 'gini = 0.0\\nsamples = 1\\nvalue = [0, 1]'),\n",
       " Text(90.23576826196474, 51.49894736842106, 'gini = 0.0\\nsamples = 3\\nvalue = [3, 0]'),\n",
       " Text(96.9823677581864, 62.943157894736856, 'X[6] <= -0.817\\ngini = 0.469\\nsamples = 8\\nvalue = [5, 3]'),\n",
       " Text(93.60906801007557, 51.49894736842106, 'X[2] <= 0.55\\ngini = 0.444\\nsamples = 3\\nvalue = [1, 2]'),\n",
       " Text(91.92241813602016, 40.05473684210526, 'gini = 0.0\\nsamples = 1\\nvalue = [0, 1]'),\n",
       " Text(95.29571788413098, 40.05473684210526, 'X[2] <= 0.864\\ngini = 0.5\\nsamples = 2\\nvalue = [1, 1]'),\n",
       " Text(93.60906801007557, 28.610526315789485, 'gini = 0.0\\nsamples = 1\\nvalue = [1, 0]'),\n",
       " Text(96.9823677581864, 28.610526315789485, 'gini = 0.0\\nsamples = 1\\nvalue = [0, 1]'),\n",
       " Text(100.35566750629724, 51.49894736842106, 'X[6] <= -0.516\\ngini = 0.32\\nsamples = 5\\nvalue = [4, 1]'),\n",
       " Text(98.66901763224182, 40.05473684210526, 'gini = 0.0\\nsamples = 3\\nvalue = [3, 0]'),\n",
       " Text(102.04231738035264, 40.05473684210526, 'X[5] <= -0.383\\ngini = 0.5\\nsamples = 2\\nvalue = [1, 1]'),\n",
       " Text(100.35566750629724, 28.610526315789485, 'gini = 0.0\\nsamples = 1\\nvalue = [0, 1]'),\n",
       " Text(103.72896725440806, 28.610526315789485, 'gini = 0.0\\nsamples = 1\\nvalue = [1, 0]'),\n",
       " Text(92.76574307304786, 97.27578947368421, 'gini = 0.0\\nsamples = 3\\nvalue = [3, 0]'),\n",
       " Text(94.45239294710328, 108.72, 'gini = 0.0\\nsamples = 1\\nvalue = [0, 1]'),\n",
       " Text(96.1390428211587, 120.16421052631578, 'gini = 0.0\\nsamples = 7\\nvalue = [7, 0]'),\n",
       " Text(97.82569269521412, 131.60842105263157, 'gini = 0.0\\nsamples = 1\\nvalue = [0, 1]'),\n",
       " Text(102.88564231738036, 143.05263157894737, 'X[5] <= -0.301\\ngini = 0.444\\nsamples = 9\\nvalue = [3, 6]'),\n",
       " Text(101.19899244332494, 131.60842105263157, 'gini = 0.0\\nsamples = 3\\nvalue = [0, 3]'),\n",
       " Text(104.57229219143576, 131.60842105263157, 'X[5] <= -0.252\\ngini = 0.5\\nsamples = 6\\nvalue = [3, 3]'),\n",
       " Text(102.88564231738036, 120.16421052631578, 'gini = 0.0\\nsamples = 2\\nvalue = [2, 0]'),\n",
       " Text(106.25894206549118, 120.16421052631578, 'X[4] <= 3.022\\ngini = 0.375\\nsamples = 4\\nvalue = [1, 3]'),\n",
       " Text(104.57229219143576, 108.72, 'gini = 0.0\\nsamples = 3\\nvalue = [0, 3]'),\n",
       " Text(107.9455919395466, 108.72, 'gini = 0.0\\nsamples = 1\\nvalue = [1, 0]'),\n",
       " Text(107.9455919395466, 177.38526315789474, 'X[2] <= -1.793\\ngini = 0.137\\nsamples = 27\\nvalue = [25, 2]'),\n",
       " Text(106.25894206549118, 165.94105263157894, 'gini = 0.0\\nsamples = 1\\nvalue = [0, 1]'),\n",
       " Text(109.63224181360202, 165.94105263157894, 'X[8] <= -0.436\\ngini = 0.074\\nsamples = 26\\nvalue = [25, 1]'),\n",
       " Text(107.9455919395466, 154.49684210526317, 'X[3] <= 0.001\\ngini = 0.5\\nsamples = 2\\nvalue = [1, 1]'),\n",
       " Text(106.25894206549118, 143.05263157894737, 'gini = 0.0\\nsamples = 1\\nvalue = [1, 0]'),\n",
       " Text(109.63224181360202, 143.05263157894737, 'gini = 0.0\\nsamples = 1\\nvalue = [0, 1]'),\n",
       " Text(111.31889168765744, 154.49684210526317, 'gini = 0.0\\nsamples = 24\\nvalue = [24, 0]'),\n",
       " Text(172.00369765428212, 200.2736842105263, 'X[2] <= -1.6\\ngini = 0.305\\nsamples = 671\\nvalue = [545, 126]'),\n",
       " Text(118.06549118387909, 188.82947368421054, 'X[3] <= 1.922\\ngini = 0.48\\nsamples = 30\\nvalue = [12, 18]'),\n",
       " Text(114.69219143576827, 177.38526315789474, 'X[6] <= -0.904\\ngini = 0.255\\nsamples = 20\\nvalue = [3, 17]'),\n",
       " Text(113.00554156171285, 165.94105263157894, 'gini = 0.0\\nsamples = 1\\nvalue = [1, 0]'),\n",
       " Text(116.37884130982368, 165.94105263157894, 'X[6] <= -0.082\\ngini = 0.188\\nsamples = 19\\nvalue = [2, 17]'),\n",
       " Text(114.69219143576827, 154.49684210526317, 'X[5] <= -0.39\\ngini = 0.408\\nsamples = 7\\nvalue = [2, 5]'),\n",
       " Text(113.00554156171285, 143.05263157894737, 'gini = 0.0\\nsamples = 4\\nvalue = [0, 4]'),\n",
       " Text(116.37884130982368, 143.05263157894737, 'X[2] <= -1.719\\ngini = 0.444\\nsamples = 3\\nvalue = [2, 1]'),\n",
       " Text(114.69219143576827, 131.60842105263157, 'gini = 0.0\\nsamples = 2\\nvalue = [2, 0]'),\n",
       " Text(118.06549118387909, 131.60842105263157, 'gini = 0.0\\nsamples = 1\\nvalue = [0, 1]'),\n",
       " Text(118.06549118387909, 154.49684210526317, 'gini = 0.0\\nsamples = 12\\nvalue = [0, 12]'),\n",
       " Text(121.43879093198993, 177.38526315789474, 'X[4] <= 1.289\\ngini = 0.18\\nsamples = 10\\nvalue = [9, 1]'),\n",
       " Text(119.75214105793451, 165.94105263157894, 'gini = 0.0\\nsamples = 6\\nvalue = [6, 0]'),\n",
       " Text(123.12544080604535, 165.94105263157894, 'X[5] <= -0.038\\ngini = 0.375\\nsamples = 4\\nvalue = [3, 1]'),\n",
       " Text(121.43879093198993, 154.49684210526317, 'gini = 0.0\\nsamples = 2\\nvalue = [2, 0]'),\n",
       " Text(124.81209068010077, 154.49684210526317, 'X[6] <= 0.735\\ngini = 0.5\\nsamples = 2\\nvalue = [1, 1]'),\n",
       " Text(123.12544080604535, 143.05263157894737, 'gini = 0.0\\nsamples = 1\\nvalue = [0, 1]'),\n",
       " Text(126.49874055415617, 143.05263157894737, 'gini = 0.0\\nsamples = 1\\nvalue = [1, 0]'),\n",
       " Text(225.94190412468515, 188.82947368421054, 'X[0] <= -0.949\\ngini = 0.28\\nsamples = 641\\nvalue = [533, 108]'),\n",
       " Text(157.38551637279596, 177.38526315789474, 'X[2] <= 0.633\\ngini = 0.44\\nsamples = 138\\nvalue = [93, 45]'),\n",
       " Text(133.24534005037785, 165.94105263157894, 'X[6] <= -0.474\\ngini = 0.498\\nsamples = 60\\nvalue = [32, 28]'),\n",
       " Text(131.55869017632241, 154.49684210526317, 'gini = 0.0\\nsamples = 4\\nvalue = [4, 0]'),\n",
       " Text(134.93198992443325, 154.49684210526317, 'X[5] <= 0.127\\ngini = 0.5\\nsamples = 56\\nvalue = [28, 28]'),\n",
       " Text(129.872040302267, 143.05263157894737, 'X[2] <= -0.33\\ngini = 0.463\\nsamples = 22\\nvalue = [8, 14]'),\n",
       " Text(128.18539042821158, 131.60842105263157, 'gini = 0.0\\nsamples = 2\\nvalue = [2, 0]'),\n",
       " Text(131.55869017632241, 131.60842105263157, 'X[4] <= 0.133\\ngini = 0.42\\nsamples = 20\\nvalue = [6, 14]'),\n",
       " Text(129.872040302267, 120.16421052631578, 'X[2] <= 0.318\\ngini = 0.388\\nsamples = 19\\nvalue = [5, 14]'),\n",
       " Text(128.18539042821158, 108.72, 'X[2] <= 0.188\\ngini = 0.459\\nsamples = 14\\nvalue = [5, 9]'),\n",
       " Text(126.49874055415617, 97.27578947368421, 'X[5] <= -0.119\\ngini = 0.426\\nsamples = 13\\nvalue = [4, 9]'),\n",
       " Text(124.81209068010077, 85.83157894736843, 'gini = 0.0\\nsamples = 3\\nvalue = [0, 3]'),\n",
       " Text(128.18539042821158, 85.83157894736843, 'X[6] <= 0.426\\ngini = 0.48\\nsamples = 10\\nvalue = [4, 6]'),\n",
       " Text(126.49874055415617, 74.38736842105263, 'gini = 0.0\\nsamples = 2\\nvalue = [2, 0]'),\n",
       " Text(129.872040302267, 74.38736842105263, 'X[2] <= -0.015\\ngini = 0.375\\nsamples = 8\\nvalue = [2, 6]'),\n",
       " Text(128.18539042821158, 62.943157894736856, 'X[2] <= -0.089\\ngini = 0.444\\nsamples = 6\\nvalue = [2, 4]'),\n",
       " Text(126.49874055415617, 51.49894736842106, 'X[6] <= 0.574\\ngini = 0.32\\nsamples = 5\\nvalue = [1, 4]'),\n",
       " Text(124.81209068010077, 40.05473684210526, 'gini = 0.0\\nsamples = 3\\nvalue = [0, 3]'),\n",
       " Text(128.18539042821158, 40.05473684210526, 'X[5] <= 0.038\\ngini = 0.5\\nsamples = 2\\nvalue = [1, 1]'),\n",
       " Text(126.49874055415617, 28.610526315789485, 'gini = 0.0\\nsamples = 1\\nvalue = [1, 0]'),\n",
       " Text(129.872040302267, 28.610526315789485, 'gini = 0.0\\nsamples = 1\\nvalue = [0, 1]'),\n",
       " Text(129.872040302267, 51.49894736842106, 'gini = 0.0\\nsamples = 1\\nvalue = [1, 0]'),\n",
       " Text(131.55869017632241, 62.943157894736856, 'gini = 0.0\\nsamples = 2\\nvalue = [0, 2]'),\n",
       " Text(129.872040302267, 97.27578947368421, 'gini = 0.0\\nsamples = 1\\nvalue = [1, 0]'),\n",
       " Text(131.55869017632241, 108.72, 'gini = 0.0\\nsamples = 5\\nvalue = [0, 5]'),\n",
       " Text(133.24534005037785, 120.16421052631578, 'gini = 0.0\\nsamples = 1\\nvalue = [1, 0]'),\n",
       " Text(139.9919395465995, 143.05263157894737, 'X[5] <= 0.367\\ngini = 0.484\\nsamples = 34\\nvalue = [20, 14]'),\n",
       " Text(138.3052896725441, 131.60842105263157, 'gini = 0.0\\nsamples = 6\\nvalue = [6, 0]'),\n",
       " Text(141.67858942065493, 131.60842105263157, 'X[6] <= 1.259\\ngini = 0.5\\nsamples = 28\\nvalue = [14, 14]'),\n",
       " Text(136.61863979848866, 120.16421052631578, 'X[2] <= -0.719\\ngini = 0.375\\nsamples = 8\\nvalue = [2, 6]'),\n",
       " Text(134.93198992443325, 108.72, 'gini = 0.0\\nsamples = 1\\nvalue = [1, 0]'),\n",
       " Text(138.3052896725441, 108.72, 'X[8] <= -0.436\\ngini = 0.245\\nsamples = 7\\nvalue = [1, 6]'),\n",
       " Text(136.61863979848866, 97.27578947368421, 'gini = 0.0\\nsamples = 4\\nvalue = [0, 4]'),\n",
       " Text(139.9919395465995, 97.27578947368421, 'X[5] <= 0.488\\ngini = 0.444\\nsamples = 3\\nvalue = [1, 2]'),\n",
       " Text(138.3052896725441, 85.83157894736843, 'gini = 0.0\\nsamples = 2\\nvalue = [0, 2]'),\n",
       " Text(141.67858942065493, 85.83157894736843, 'gini = 0.0\\nsamples = 1\\nvalue = [1, 0]'),\n",
       " Text(146.73853904282117, 120.16421052631578, 'X[5] <= 6.852\\ngini = 0.48\\nsamples = 20\\nvalue = [12, 8]'),\n",
       " Text(145.05188916876574, 108.72, 'X[2] <= -1.015\\ngini = 0.444\\nsamples = 18\\nvalue = [12, 6]'),\n",
       " Text(143.36523929471034, 97.27578947368421, 'gini = 0.0\\nsamples = 2\\nvalue = [0, 2]'),\n",
       " Text(146.73853904282117, 97.27578947368421, 'X[5] <= 1.828\\ngini = 0.375\\nsamples = 16\\nvalue = [12, 4]'),\n",
       " Text(145.05188916876574, 85.83157894736843, 'X[6] <= 1.518\\ngini = 0.494\\nsamples = 9\\nvalue = [5, 4]'),\n",
       " Text(141.67858942065493, 74.38736842105263, 'X[8] <= -0.436\\ngini = 0.32\\nsamples = 5\\nvalue = [4, 1]'),\n",
       " Text(139.9919395465995, 62.943157894736856, 'X[2] <= 0.133\\ngini = 0.5\\nsamples = 2\\nvalue = [1, 1]'),\n",
       " Text(138.3052896725441, 51.49894736842106, 'gini = 0.0\\nsamples = 1\\nvalue = [0, 1]'),\n",
       " Text(141.67858942065493, 51.49894736842106, 'gini = 0.0\\nsamples = 1\\nvalue = [1, 0]'),\n",
       " Text(143.36523929471034, 62.943157894736856, 'gini = 0.0\\nsamples = 3\\nvalue = [3, 0]'),\n",
       " Text(148.42518891687658, 74.38736842105263, 'X[2] <= -0.423\\ngini = 0.375\\nsamples = 4\\nvalue = [1, 3]'),\n",
       " Text(146.73853904282117, 62.943157894736856, 'gini = 0.0\\nsamples = 1\\nvalue = [1, 0]'),\n",
       " Text(150.11183879093198, 62.943157894736856, 'gini = 0.0\\nsamples = 3\\nvalue = [0, 3]'),\n",
       " Text(148.42518891687658, 85.83157894736843, 'gini = 0.0\\nsamples = 7\\nvalue = [7, 0]'),\n",
       " Text(148.42518891687658, 108.72, 'gini = 0.0\\nsamples = 2\\nvalue = [0, 2]'),\n",
       " Text(181.5256926952141, 165.94105263157894, 'X[2] <= 1.763\\ngini = 0.341\\nsamples = 78\\nvalue = [61, 17]'),\n",
       " Text(170.77329974811084, 154.49684210526317, 'X[2] <= 1.318\\ngini = 0.406\\nsamples = 53\\nvalue = [38, 15]'),\n",
       " Text(163.6050377833753, 143.05263157894737, 'X[4] <= 0.133\\ngini = 0.272\\nsamples = 37\\nvalue = [31, 6]'),\n",
       " Text(161.9183879093199, 131.60842105263157, 'X[6] <= 1.124\\ngini = 0.239\\nsamples = 36\\nvalue = [31, 5]'),\n",
       " Text(160.2317380352645, 120.16421052631578, 'X[6] <= 1.043\\ngini = 0.293\\nsamples = 28\\nvalue = [23, 5]'),\n",
       " Text(158.54508816120907, 108.72, 'X[8] <= -0.436\\ngini = 0.252\\nsamples = 27\\nvalue = [23, 4]'),\n",
       " Text(153.48513853904282, 97.27578947368421, 'X[2] <= 0.726\\ngini = 0.444\\nsamples = 6\\nvalue = [4, 2]'),\n",
       " Text(151.79848866498742, 85.83157894736843, 'gini = 0.0\\nsamples = 2\\nvalue = [2, 0]'),\n",
       " Text(155.17178841309823, 85.83157894736843, 'X[6] <= 0.445\\ngini = 0.5\\nsamples = 4\\nvalue = [2, 2]'),\n",
       " Text(153.48513853904282, 74.38736842105263, 'gini = 0.0\\nsamples = 1\\nvalue = [1, 0]'),\n",
       " Text(156.85843828715366, 74.38736842105263, 'X[5] <= 0.039\\ngini = 0.444\\nsamples = 3\\nvalue = [1, 2]'),\n",
       " Text(155.17178841309823, 62.943157894736856, 'gini = 0.0\\nsamples = 2\\nvalue = [0, 2]'),\n",
       " Text(158.54508816120907, 62.943157894736856, 'gini = 0.0\\nsamples = 1\\nvalue = [1, 0]'),\n",
       " Text(163.6050377833753, 97.27578947368421, 'X[2] <= 1.077\\ngini = 0.172\\nsamples = 21\\nvalue = [19, 2]'),\n",
       " Text(161.9183879093199, 85.83157894736843, 'gini = 0.0\\nsamples = 10\\nvalue = [10, 0]'),\n",
       " Text(165.29168765743074, 85.83157894736843, 'X[2] <= 1.263\\ngini = 0.298\\nsamples = 11\\nvalue = [9, 2]'),\n",
       " Text(163.6050377833753, 74.38736842105263, 'X[2] <= 1.226\\ngini = 0.444\\nsamples = 6\\nvalue = [4, 2]'),\n",
       " Text(161.9183879093199, 62.943157894736856, 'X[2] <= 1.151\\ngini = 0.32\\nsamples = 5\\nvalue = [4, 1]'),\n",
       " Text(160.2317380352645, 51.49894736842106, 'X[5] <= -0.044\\ngini = 0.444\\nsamples = 3\\nvalue = [2, 1]'),\n",
       " Text(158.54508816120907, 40.05473684210526, 'gini = 0.5\\nsamples = 2\\nvalue = [1, 1]'),\n",
       " Text(161.9183879093199, 40.05473684210526, 'gini = 0.0\\nsamples = 1\\nvalue = [1, 0]'),\n",
       " Text(163.6050377833753, 51.49894736842106, 'gini = 0.0\\nsamples = 2\\nvalue = [2, 0]'),\n",
       " Text(165.29168765743074, 62.943157894736856, 'gini = 0.0\\nsamples = 1\\nvalue = [0, 1]'),\n",
       " Text(166.97833753148615, 74.38736842105263, 'gini = 0.0\\nsamples = 5\\nvalue = [5, 0]'),\n",
       " Text(161.9183879093199, 108.72, 'gini = 0.0\\nsamples = 1\\nvalue = [0, 1]'),\n",
       " Text(163.6050377833753, 120.16421052631578, 'gini = 0.0\\nsamples = 8\\nvalue = [8, 0]'),\n",
       " Text(165.29168765743074, 131.60842105263157, 'gini = 0.0\\nsamples = 1\\nvalue = [0, 1]'),\n",
       " Text(177.94156171284635, 143.05263157894737, 'X[6] <= 1.662\\ngini = 0.492\\nsamples = 16\\nvalue = [7, 9]'),\n",
       " Text(176.25491183879095, 131.60842105263157, 'X[4] <= 0.133\\ngini = 0.426\\nsamples = 13\\nvalue = [4, 9]'),\n",
       " Text(172.0382871536524, 120.16421052631578, 'X[5] <= -0.135\\ngini = 0.32\\nsamples = 10\\nvalue = [2, 8]'),\n",
       " Text(168.66498740554158, 108.72, 'X[5] <= -0.392\\ngini = 0.5\\nsamples = 2\\nvalue = [1, 1]'),\n",
       " Text(166.97833753148615, 97.27578947368421, 'gini = 0.0\\nsamples = 1\\nvalue = [0, 1]'),\n",
       " Text(170.35163727959699, 97.27578947368421, 'gini = 0.0\\nsamples = 1\\nvalue = [1, 0]'),\n",
       " Text(175.41158690176323, 108.72, 'X[5] <= 0.4\\ngini = 0.219\\nsamples = 8\\nvalue = [1, 7]'),\n",
       " Text(173.72493702770782, 97.27578947368421, 'gini = 0.0\\nsamples = 5\\nvalue = [0, 5]'),\n",
       " Text(177.09823677581863, 97.27578947368421, 'X[2] <= 1.466\\ngini = 0.444\\nsamples = 3\\nvalue = [1, 2]'),\n",
       " Text(175.41158690176323, 85.83157894736843, 'gini = 0.0\\nsamples = 2\\nvalue = [0, 2]'),\n",
       " Text(178.78488664987407, 85.83157894736843, 'gini = 0.0\\nsamples = 1\\nvalue = [1, 0]'),\n",
       " Text(180.47153652392947, 120.16421052631578, 'X[2] <= 1.689\\ngini = 0.444\\nsamples = 3\\nvalue = [2, 1]'),\n",
       " Text(178.78488664987407, 108.72, 'gini = 0.0\\nsamples = 2\\nvalue = [2, 0]'),\n",
       " Text(182.15818639798488, 108.72, 'gini = 0.0\\nsamples = 1\\nvalue = [0, 1]'),\n",
       " Text(179.62821158690176, 131.60842105263157, 'gini = 0.0\\nsamples = 3\\nvalue = [3, 0]'),\n",
       " Text(192.2780856423174, 154.49684210526317, 'X[2] <= 3.392\\ngini = 0.147\\nsamples = 25\\nvalue = [23, 2]'),\n",
       " Text(190.59143576826196, 143.05263157894737, 'X[2] <= 1.985\\ngini = 0.08\\nsamples = 24\\nvalue = [23, 1]'),\n",
       " Text(188.90478589420655, 131.60842105263157, 'X[8] <= -0.436\\ngini = 0.219\\nsamples = 8\\nvalue = [7, 1]'),\n",
       " Text(187.21813602015115, 120.16421052631578, 'X[3] <= 0.001\\ngini = 0.444\\nsamples = 3\\nvalue = [2, 1]'),\n",
       " Text(185.53148614609572, 108.72, 'X[6] <= 0.585\\ngini = 0.5\\nsamples = 2\\nvalue = [1, 1]'),\n",
       " Text(183.8448362720403, 97.27578947368421, 'gini = 0.0\\nsamples = 1\\nvalue = [1, 0]'),\n",
       " Text(187.21813602015115, 97.27578947368421, 'gini = 0.0\\nsamples = 1\\nvalue = [0, 1]'),\n",
       " Text(188.90478589420655, 108.72, 'gini = 0.0\\nsamples = 1\\nvalue = [1, 0]'),\n",
       " Text(190.59143576826196, 120.16421052631578, 'gini = 0.0\\nsamples = 5\\nvalue = [5, 0]'),\n",
       " Text(192.2780856423174, 131.60842105263157, 'gini = 0.0\\nsamples = 16\\nvalue = [16, 0]'),\n",
       " Text(193.9647355163728, 143.05263157894737, 'gini = 0.0\\nsamples = 1\\nvalue = [0, 1]'),\n",
       " Text(294.49829187657434, 177.38526315789474, 'X[2] <= 0.185\\ngini = 0.219\\nsamples = 503\\nvalue = [440, 63]'),\n",
       " Text(269.79809508816123, 165.94105263157894, 'X[2] <= 0.151\\ngini = 0.27\\nsamples = 354\\nvalue = [297, 57]'),\n",
       " Text(239.89959068010077, 154.49684210526317, 'X[8] <= -0.436\\ngini = 0.257\\nsamples = 337\\nvalue = [286, 51]'),\n",
       " Text(213.572040302267, 143.05263157894737, 'X[5] <= -0.494\\ngini = 0.369\\nsamples = 82\\nvalue = [62, 20]'),\n",
       " Text(198.18136020151135, 131.60842105263157, 'X[2] <= -0.756\\ngini = 0.175\\nsamples = 31\\nvalue = [28, 3]'),\n",
       " Text(196.49471032745592, 120.16421052631578, 'gini = 0.0\\nsamples = 8\\nvalue = [8, 0]'),\n",
       " Text(199.86801007556676, 120.16421052631578, 'X[2] <= -0.552\\ngini = 0.227\\nsamples = 23\\nvalue = [20, 3]'),\n",
       " Text(193.9647355163728, 108.72, 'X[2] <= -0.608\\ngini = 0.408\\nsamples = 7\\nvalue = [5, 2]'),\n",
       " Text(190.59143576826196, 97.27578947368421, 'X[5] <= -0.504\\ngini = 0.32\\nsamples = 5\\nvalue = [4, 1]'),\n",
       " Text(188.90478589420655, 85.83157894736843, 'gini = 0.0\\nsamples = 3\\nvalue = [3, 0]'),\n",
       " Text(192.2780856423174, 85.83157894736843, 'X[6] <= -0.895\\ngini = 0.5\\nsamples = 2\\nvalue = [1, 1]'),\n",
       " Text(190.59143576826196, 74.38736842105263, 'gini = 0.0\\nsamples = 1\\nvalue = [0, 1]'),\n",
       " Text(193.9647355163728, 74.38736842105263, 'gini = 0.0\\nsamples = 1\\nvalue = [1, 0]'),\n",
       " Text(197.33803526448364, 97.27578947368421, 'X[5] <= -0.504\\ngini = 0.5\\nsamples = 2\\nvalue = [1, 1]'),\n",
       " Text(195.65138539042823, 85.83157894736843, 'gini = 0.0\\nsamples = 1\\nvalue = [0, 1]'),\n",
       " Text(199.02468513853904, 85.83157894736843, 'gini = 0.0\\nsamples = 1\\nvalue = [1, 0]'),\n",
       " Text(205.77128463476072, 108.72, 'X[2] <= -0.343\\ngini = 0.117\\nsamples = 16\\nvalue = [15, 1]'),\n",
       " Text(204.08463476070528, 97.27578947368421, 'X[2] <= -0.363\\ngini = 0.219\\nsamples = 8\\nvalue = [7, 1]'),\n",
       " Text(202.39798488664988, 85.83157894736843, 'gini = 0.0\\nsamples = 6\\nvalue = [6, 0]'),\n",
       " Text(205.77128463476072, 85.83157894736843, 'X[5] <= -0.504\\ngini = 0.5\\nsamples = 2\\nvalue = [1, 1]'),\n",
       " Text(204.08463476070528, 74.38736842105263, 'gini = 0.0\\nsamples = 1\\nvalue = [1, 0]'),\n",
       " Text(207.45793450881612, 74.38736842105263, 'gini = 0.0\\nsamples = 1\\nvalue = [0, 1]'),\n",
       " Text(207.45793450881612, 97.27578947368421, 'gini = 0.0\\nsamples = 8\\nvalue = [8, 0]'),\n",
       " Text(228.96272040302267, 131.60842105263157, 'X[4] <= 0.133\\ngini = 0.444\\nsamples = 51\\nvalue = [34, 17]'),\n",
       " Text(223.48110831234257, 120.16421052631578, 'X[2] <= -0.515\\ngini = 0.405\\nsamples = 46\\nvalue = [33, 13]'),\n",
       " Text(217.5778337531486, 108.72, 'X[6] <= -0.128\\ngini = 0.497\\nsamples = 13\\nvalue = [6, 7]'),\n",
       " Text(214.2045340050378, 97.27578947368421, 'X[5] <= -0.493\\ngini = 0.375\\nsamples = 8\\nvalue = [2, 6]'),\n",
       " Text(212.51788413098237, 85.83157894736843, 'X[2] <= -0.747\\ngini = 0.5\\nsamples = 4\\nvalue = [2, 2]'),\n",
       " Text(210.83123425692696, 74.38736842105263, 'gini = 0.0\\nsamples = 2\\nvalue = [0, 2]'),\n",
       " Text(214.2045340050378, 74.38736842105263, 'gini = 0.0\\nsamples = 2\\nvalue = [2, 0]'),\n",
       " Text(215.8911838790932, 85.83157894736843, 'gini = 0.0\\nsamples = 4\\nvalue = [0, 4]'),\n",
       " Text(220.95113350125945, 97.27578947368421, 'X[2] <= -0.643\\ngini = 0.32\\nsamples = 5\\nvalue = [4, 1]'),\n",
       " Text(219.26448362720404, 85.83157894736843, 'gini = 0.0\\nsamples = 4\\nvalue = [4, 0]'),\n",
       " Text(222.63778337531488, 85.83157894736843, 'gini = 0.0\\nsamples = 1\\nvalue = [0, 1]'),\n",
       " Text(229.38438287153653, 108.72, 'X[3] <= 0.001\\ngini = 0.298\\nsamples = 33\\nvalue = [27, 6]'),\n",
       " Text(227.69773299748113, 97.27578947368421, 'X[2] <= -0.293\\ngini = 0.375\\nsamples = 24\\nvalue = [18, 6]'),\n",
       " Text(226.0110831234257, 85.83157894736843, 'gini = 0.0\\nsamples = 7\\nvalue = [7, 0]'),\n",
       " Text(229.38438287153653, 85.83157894736843, 'X[2] <= -0.221\\ngini = 0.457\\nsamples = 17\\nvalue = [11, 6]'),\n",
       " Text(227.69773299748113, 74.38736842105263, 'gini = 0.0\\nsamples = 2\\nvalue = [0, 2]'),\n",
       " Text(231.07103274559194, 74.38736842105263, 'X[5] <= -0.364\\ngini = 0.391\\nsamples = 15\\nvalue = [11, 4]'),\n",
       " Text(229.38438287153653, 62.943157894736856, 'X[0] <= 0.245\\ngini = 0.463\\nsamples = 11\\nvalue = [7, 4]'),\n",
       " Text(227.69773299748113, 51.49894736842106, 'gini = 0.0\\nsamples = 2\\nvalue = [0, 2]'),\n",
       " Text(231.07103274559194, 51.49894736842106, 'X[2] <= -0.034\\ngini = 0.346\\nsamples = 9\\nvalue = [7, 2]'),\n",
       " Text(229.38438287153653, 40.05473684210526, 'X[2] <= -0.074\\ngini = 0.5\\nsamples = 4\\nvalue = [2, 2]'),\n",
       " Text(227.69773299748113, 28.610526315789485, 'gini = 0.0\\nsamples = 2\\nvalue = [2, 0]'),\n",
       " Text(231.07103274559194, 28.610526315789485, 'gini = 0.0\\nsamples = 2\\nvalue = [0, 2]'),\n",
       " Text(232.75768261964737, 40.05473684210526, 'gini = 0.0\\nsamples = 5\\nvalue = [5, 0]'),\n",
       " Text(232.75768261964737, 62.943157894736856, 'gini = 0.0\\nsamples = 4\\nvalue = [4, 0]'),\n",
       " Text(231.07103274559194, 97.27578947368421, 'gini = 0.0\\nsamples = 9\\nvalue = [9, 0]'),\n",
       " Text(234.44433249370277, 120.16421052631578, 'X[5] <= -0.07\\ngini = 0.32\\nsamples = 5\\nvalue = [1, 4]'),\n",
       " Text(232.75768261964737, 108.72, 'gini = 0.0\\nsamples = 4\\nvalue = [0, 4]'),\n",
       " Text(236.13098236775818, 108.72, 'gini = 0.0\\nsamples = 1\\nvalue = [1, 0]'),\n",
       " Text(266.2271410579345, 143.05263157894737, 'X[5] <= -0.493\\ngini = 0.214\\nsamples = 255\\nvalue = [224, 31]'),\n",
       " Text(244.56423173803526, 131.60842105263157, 'X[6] <= -0.887\\ngini = 0.311\\nsamples = 52\\nvalue = [42, 10]'),\n",
       " Text(241.19093198992445, 120.16421052631578, 'X[2] <= -0.352\\ngini = 0.133\\nsamples = 28\\nvalue = [26, 2]'),\n",
       " Text(239.50428211586902, 108.72, 'gini = 0.0\\nsamples = 19\\nvalue = [19, 0]'),\n",
       " Text(242.87758186397986, 108.72, 'X[6] <= -0.939\\ngini = 0.346\\nsamples = 9\\nvalue = [7, 2]'),\n",
       " Text(241.19093198992445, 97.27578947368421, 'X[2] <= -0.043\\ngini = 0.48\\nsamples = 5\\nvalue = [3, 2]'),\n",
       " Text(239.50428211586902, 85.83157894736843, 'X[6] <= -1.927\\ngini = 0.375\\nsamples = 4\\nvalue = [3, 1]'),\n",
       " Text(237.8176322418136, 74.38736842105263, 'X[2] <= -0.275\\ngini = 0.5\\nsamples = 2\\nvalue = [1, 1]'),\n",
       " Text(236.13098236775818, 62.943157894736856, 'gini = 0.0\\nsamples = 1\\nvalue = [0, 1]'),\n",
       " Text(239.50428211586902, 62.943157894736856, 'gini = 0.0\\nsamples = 1\\nvalue = [1, 0]'),\n",
       " Text(241.19093198992445, 74.38736842105263, 'gini = 0.0\\nsamples = 2\\nvalue = [2, 0]'),\n",
       " Text(242.87758186397986, 85.83157894736843, 'gini = 0.0\\nsamples = 1\\nvalue = [0, 1]'),\n",
       " Text(244.56423173803526, 97.27578947368421, 'gini = 0.0\\nsamples = 4\\nvalue = [4, 0]'),\n",
       " Text(247.9375314861461, 120.16421052631578, 'X[2] <= -0.719\\ngini = 0.444\\nsamples = 24\\nvalue = [16, 8]'),\n",
       " Text(246.2508816120907, 108.72, 'gini = 0.0\\nsamples = 5\\nvalue = [5, 0]'),\n",
       " Text(249.62418136020153, 108.72, 'X[2] <= -0.191\\ngini = 0.488\\nsamples = 19\\nvalue = [11, 8]'),\n",
       " Text(247.9375314861461, 97.27578947368421, 'X[2] <= -0.608\\ngini = 0.498\\nsamples = 15\\nvalue = [7, 8]'),\n",
       " Text(246.2508816120907, 85.83157894736843, 'gini = 0.0\\nsamples = 2\\nvalue = [0, 2]'),\n",
       " Text(249.62418136020153, 85.83157894736843, 'X[2] <= -0.534\\ngini = 0.497\\nsamples = 13\\nvalue = [7, 6]'),\n",
       " Text(247.9375314861461, 74.38736842105263, 'gini = 0.0\\nsamples = 3\\nvalue = [3, 0]'),\n",
       " Text(251.31083123425694, 74.38736842105263, 'X[6] <= -0.855\\ngini = 0.48\\nsamples = 10\\nvalue = [4, 6]'),\n",
       " Text(249.62418136020153, 62.943157894736856, 'X[5] <= -0.496\\ngini = 0.5\\nsamples = 8\\nvalue = [4, 4]'),\n",
       " Text(247.9375314861461, 51.49894736842106, 'gini = 0.0\\nsamples = 1\\nvalue = [0, 1]'),\n",
       " Text(251.31083123425694, 51.49894736842106, 'X[2] <= -0.386\\ngini = 0.49\\nsamples = 7\\nvalue = [4, 3]'),\n",
       " Text(249.62418136020153, 40.05473684210526, 'gini = 0.0\\nsamples = 1\\nvalue = [1, 0]'),\n",
       " Text(252.99748110831234, 40.05473684210526, 'X[5] <= -0.494\\ngini = 0.5\\nsamples = 6\\nvalue = [3, 3]'),\n",
       " Text(251.31083123425694, 28.610526315789485, 'gini = 0.5\\nsamples = 2\\nvalue = [1, 1]'),\n",
       " Text(254.68413098236778, 28.610526315789485, 'X[3] <= 0.001\\ngini = 0.5\\nsamples = 4\\nvalue = [2, 2]'),\n",
       " Text(252.99748110831234, 17.166315789473686, 'gini = 0.5\\nsamples = 2\\nvalue = [1, 1]'),\n",
       " Text(256.37078085642315, 17.166315789473686, 'gini = 0.5\\nsamples = 2\\nvalue = [1, 1]'),\n",
       " Text(252.99748110831234, 62.943157894736856, 'gini = 0.0\\nsamples = 2\\nvalue = [0, 2]'),\n",
       " Text(251.31083123425694, 97.27578947368421, 'gini = 0.0\\nsamples = 4\\nvalue = [4, 0]'),\n",
       " Text(287.89005037783375, 131.60842105263157, 'X[5] <= -0.49\\ngini = 0.185\\nsamples = 203\\nvalue = [182, 21]'),\n",
       " Text(286.20340050377837, 120.16421052631578, 'gini = 0.0\\nsamples = 40\\nvalue = [40, 0]'),\n",
       " Text(289.5767002518892, 120.16421052631578, 'X[6] <= -0.511\\ngini = 0.224\\nsamples = 163\\nvalue = [142, 21]'),\n",
       " Text(274.92392947103275, 108.72, 'X[2] <= -1.089\\ngini = 0.289\\nsamples = 80\\nvalue = [66, 14]'),\n",
       " Text(273.2372795969773, 97.27578947368421, 'gini = 0.0\\nsamples = 1\\nvalue = [0, 1]'),\n",
       " Text(276.6105793450882, 97.27578947368421, 'X[6] <= -0.657\\ngini = 0.275\\nsamples = 79\\nvalue = [66, 13]'),\n",
       " Text(268.1773299748111, 85.83157894736843, 'X[2] <= -0.682\\ngini = 0.215\\nsamples = 57\\nvalue = [50, 7]'),\n",
       " Text(264.80403022670026, 74.38736842105263, 'X[6] <= -0.815\\ngini = 0.401\\nsamples = 18\\nvalue = [13, 5]'),\n",
       " Text(263.11738035264483, 62.943157894736856, 'X[5] <= -0.489\\ngini = 0.494\\nsamples = 9\\nvalue = [4, 5]'),\n",
       " Text(261.43073047858945, 51.49894736842106, 'gini = 0.0\\nsamples = 2\\nvalue = [0, 2]'),\n",
       " Text(264.80403022670026, 51.49894736842106, 'X[2] <= -0.756\\ngini = 0.49\\nsamples = 7\\nvalue = [4, 3]'),\n",
       " Text(263.11738035264483, 40.05473684210526, 'X[3] <= 0.481\\ngini = 0.5\\nsamples = 6\\nvalue = [3, 3]'),\n",
       " Text(261.43073047858945, 28.610526315789485, 'X[2] <= -0.941\\ngini = 0.48\\nsamples = 5\\nvalue = [2, 3]'),\n",
       " Text(259.744080604534, 17.166315789473686, 'gini = 0.5\\nsamples = 2\\nvalue = [1, 1]'),\n",
       " Text(263.11738035264483, 17.166315789473686, 'X[2] <= -0.83\\ngini = 0.444\\nsamples = 3\\nvalue = [1, 2]'),\n",
       " Text(261.43073047858945, 5.722105263157886, 'gini = 0.0\\nsamples = 1\\nvalue = [0, 1]'),\n",
       " Text(264.80403022670026, 5.722105263157886, 'gini = 0.5\\nsamples = 2\\nvalue = [1, 1]'),\n",
       " Text(264.80403022670026, 28.610526315789485, 'gini = 0.0\\nsamples = 1\\nvalue = [1, 0]'),\n",
       " Text(266.4906801007557, 40.05473684210526, 'gini = 0.0\\nsamples = 1\\nvalue = [1, 0]'),\n",
       " Text(266.4906801007557, 62.943157894736856, 'gini = 0.0\\nsamples = 9\\nvalue = [9, 0]'),\n",
       " Text(271.55062972292194, 74.38736842105263, 'X[6] <= -0.817\\ngini = 0.097\\nsamples = 39\\nvalue = [37, 2]'),\n",
       " Text(269.8639798488665, 62.943157894736856, 'gini = 0.0\\nsamples = 27\\nvalue = [27, 0]'),\n",
       " Text(273.2372795969773, 62.943157894736856, 'X[6] <= -0.794\\ngini = 0.278\\nsamples = 12\\nvalue = [10, 2]'),\n",
       " Text(271.55062972292194, 51.49894736842106, 'gini = 0.0\\nsamples = 1\\nvalue = [0, 1]'),\n",
       " Text(274.92392947103275, 51.49894736842106, 'X[2] <= -0.238\\ngini = 0.165\\nsamples = 11\\nvalue = [10, 1]'),\n",
       " Text(273.2372795969773, 40.05473684210526, 'gini = 0.0\\nsamples = 7\\nvalue = [7, 0]'),\n",
       " Text(276.6105793450882, 40.05473684210526, 'X[5] <= -0.468\\ngini = 0.375\\nsamples = 4\\nvalue = [3, 1]'),\n",
       " Text(274.92392947103275, 28.610526315789485, 'gini = 0.444\\nsamples = 3\\nvalue = [2, 1]'),\n",
       " Text(278.29722921914356, 28.610526315789485, 'gini = 0.0\\nsamples = 1\\nvalue = [1, 0]'),\n",
       " Text(285.04382871536524, 85.83157894736843, 'X[2] <= -0.645\\ngini = 0.397\\nsamples = 22\\nvalue = [16, 6]'),\n",
       " Text(281.6705289672544, 74.38736842105263, 'X[0] <= 0.245\\ngini = 0.245\\nsamples = 7\\nvalue = [6, 1]'),\n",
       " Text(279.983879093199, 62.943157894736856, 'X[2] <= -0.83\\ngini = 0.444\\nsamples = 3\\nvalue = [2, 1]'),\n",
       " Text(278.29722921914356, 51.49894736842106, 'gini = 0.0\\nsamples = 1\\nvalue = [1, 0]'),\n",
       " Text(281.6705289672544, 51.49894736842106, 'gini = 0.5\\nsamples = 2\\nvalue = [1, 1]'),\n",
       " Text(283.35717884130986, 62.943157894736856, 'gini = 0.0\\nsamples = 4\\nvalue = [4, 0]'),\n",
       " Text(288.4171284634761, 74.38736842105263, 'X[2] <= -0.534\\ngini = 0.444\\nsamples = 15\\nvalue = [10, 5]'),\n",
       " Text(286.73047858942067, 62.943157894736856, 'gini = 0.0\\nsamples = 1\\nvalue = [0, 1]'),\n",
       " Text(290.1037783375315, 62.943157894736856, 'X[6] <= -0.606\\ngini = 0.408\\nsamples = 14\\nvalue = [10, 4]'),\n",
       " Text(285.04382871536524, 51.49894736842106, 'X[2] <= -0.386\\ngini = 0.5\\nsamples = 6\\nvalue = [3, 3]'),\n",
       " Text(283.35717884130986, 40.05473684210526, 'gini = 0.0\\nsamples = 1\\nvalue = [1, 0]'),\n",
       " Text(286.73047858942067, 40.05473684210526, 'X[2] <= 0.077\\ngini = 0.48\\nsamples = 5\\nvalue = [2, 3]'),\n",
       " Text(285.04382871536524, 28.610526315789485, 'X[2] <= -0.089\\ngini = 0.375\\nsamples = 4\\nvalue = [1, 3]'),\n",
       " Text(283.35717884130986, 17.166315789473686, 'X[2] <= -0.238\\ngini = 0.5\\nsamples = 2\\nvalue = [1, 1]'),\n",
       " Text(281.6705289672544, 5.722105263157886, 'gini = 0.0\\nsamples = 1\\nvalue = [0, 1]'),\n",
       " Text(285.04382871536524, 5.722105263157886, 'gini = 0.0\\nsamples = 1\\nvalue = [1, 0]'),\n",
       " Text(286.73047858942067, 17.166315789473686, 'gini = 0.0\\nsamples = 2\\nvalue = [0, 2]'),\n",
       " Text(288.4171284634761, 28.610526315789485, 'gini = 0.0\\nsamples = 1\\nvalue = [1, 0]'),\n",
       " Text(295.1637279596977, 51.49894736842106, 'X[2] <= -0.386\\ngini = 0.219\\nsamples = 8\\nvalue = [7, 1]'),\n",
       " Text(293.47707808564235, 40.05473684210526, 'X[2] <= -0.46\\ngini = 0.444\\nsamples = 3\\nvalue = [2, 1]'),\n",
       " Text(291.7904282115869, 28.610526315789485, 'gini = 0.0\\nsamples = 1\\nvalue = [1, 0]'),\n",
       " Text(295.1637279596977, 28.610526315789485, 'gini = 0.5\\nsamples = 2\\nvalue = [1, 1]'),\n",
       " Text(296.85037783375316, 40.05473684210526, 'gini = 0.0\\nsamples = 5\\nvalue = [5, 0]'),\n",
       " Text(304.2294710327456, 108.72, 'X[2] <= 0.059\\ngini = 0.154\\nsamples = 83\\nvalue = [76, 7]'),\n",
       " Text(298.9586901763224, 97.27578947368421, 'X[2] <= -1.497\\ngini = 0.137\\nsamples = 81\\nvalue = [75, 6]'),\n",
       " Text(293.47707808564235, 85.83157894736843, 'X[5] <= -0.186\\ngini = 0.444\\nsamples = 3\\nvalue = [2, 1]'),\n",
       " Text(291.7904282115869, 74.38736842105263, 'gini = 0.0\\nsamples = 1\\nvalue = [0, 1]'),\n",
       " Text(295.1637279596977, 74.38736842105263, 'gini = 0.0\\nsamples = 2\\nvalue = [2, 0]'),\n",
       " Text(304.44030226700255, 85.83157894736843, 'X[2] <= -0.312\\ngini = 0.12\\nsamples = 78\\nvalue = [73, 5]'),\n",
       " Text(298.5370277078086, 74.38736842105263, 'X[5] <= 0.356\\ngini = 0.041\\nsamples = 48\\nvalue = [47, 1]'),\n",
       " Text(296.85037783375316, 62.943157894736856, 'gini = 0.0\\nsamples = 36\\nvalue = [36, 0]'),\n",
       " Text(300.22367758186397, 62.943157894736856, 'X[6] <= 1.19\\ngini = 0.153\\nsamples = 12\\nvalue = [11, 1]'),\n",
       " Text(298.5370277078086, 51.49894736842106, 'gini = 0.0\\nsamples = 1\\nvalue = [0, 1]'),\n",
       " Text(301.9103274559194, 51.49894736842106, 'gini = 0.0\\nsamples = 11\\nvalue = [11, 0]'),\n",
       " Text(310.34357682619645, 74.38736842105263, 'X[5] <= -0.112\\ngini = 0.231\\nsamples = 30\\nvalue = [26, 4]'),\n",
       " Text(306.97027707808564, 62.943157894736856, 'X[3] <= 1.442\\ngini = 0.137\\nsamples = 27\\nvalue = [25, 2]'),\n",
       " Text(305.2836272040302, 51.49894736842106, 'X[5] <= -0.387\\ngini = 0.074\\nsamples = 26\\nvalue = [25, 1]'),\n",
       " Text(303.59697732997483, 40.05473684210526, 'X[2] <= -0.108\\ngini = 0.165\\nsamples = 11\\nvalue = [10, 1]'),\n",
       " Text(301.9103274559194, 28.610526315789485, 'gini = 0.0\\nsamples = 5\\nvalue = [5, 0]'),\n",
       " Text(305.2836272040302, 28.610526315789485, 'X[2] <= -0.034\\ngini = 0.278\\nsamples = 6\\nvalue = [5, 1]'),\n",
       " Text(303.59697732997483, 17.166315789473686, 'gini = 0.0\\nsamples = 1\\nvalue = [0, 1]'),\n",
       " Text(306.97027707808564, 17.166315789473686, 'gini = 0.0\\nsamples = 5\\nvalue = [5, 0]'),\n",
       " Text(306.97027707808564, 40.05473684210526, 'gini = 0.0\\nsamples = 15\\nvalue = [15, 0]'),\n",
       " Text(308.6569269521411, 51.49894736842106, 'gini = 0.0\\nsamples = 1\\nvalue = [0, 1]'),\n",
       " Text(313.7168765743073, 62.943157894736856, 'X[2] <= -0.201\\ngini = 0.444\\nsamples = 3\\nvalue = [1, 2]'),\n",
       " Text(312.0302267002519, 51.49894736842106, 'gini = 0.0\\nsamples = 2\\nvalue = [0, 2]'),\n",
       " Text(315.40352644836275, 51.49894736842106, 'gini = 0.0\\nsamples = 1\\nvalue = [1, 0]'),\n",
       " Text(309.5002518891688, 97.27578947368421, 'X[4] <= 0.133\\ngini = 0.5\\nsamples = 2\\nvalue = [1, 1]'),\n",
       " Text(307.81360201511336, 85.83157894736843, 'gini = 0.0\\nsamples = 1\\nvalue = [0, 1]'),\n",
       " Text(311.18690176322417, 85.83157894736843, 'gini = 0.0\\nsamples = 1\\nvalue = [1, 0]'),\n",
       " Text(299.69659949622167, 154.49684210526317, 'X[6] <= -0.829\\ngini = 0.457\\nsamples = 17\\nvalue = [11, 6]'),\n",
       " Text(296.32329974811086, 143.05263157894737, 'X[7] <= 1.392\\ngini = 0.49\\nsamples = 7\\nvalue = [3, 4]'),\n",
       " Text(294.6366498740554, 131.60842105263157, 'X[5] <= -0.491\\ngini = 0.32\\nsamples = 5\\nvalue = [1, 4]'),\n",
       " Text(292.95, 120.16421052631578, 'gini = 0.0\\nsamples = 3\\nvalue = [0, 3]'),\n",
       " Text(296.32329974811086, 120.16421052631578, 'gini = 0.5\\nsamples = 2\\nvalue = [1, 1]'),\n",
       " Text(298.00994962216623, 131.60842105263157, 'gini = 0.0\\nsamples = 2\\nvalue = [2, 0]'),\n",
       " Text(303.0698992443325, 143.05263157894737, 'X[5] <= 0.121\\ngini = 0.32\\nsamples = 10\\nvalue = [8, 2]'),\n",
       " Text(301.3832493702771, 131.60842105263157, 'X[5] <= -0.485\\ngini = 0.198\\nsamples = 9\\nvalue = [8, 1]'),\n",
       " Text(299.69659949622167, 120.16421052631578, 'gini = 0.444\\nsamples = 3\\nvalue = [2, 1]'),\n",
       " Text(303.0698992443325, 120.16421052631578, 'gini = 0.0\\nsamples = 6\\nvalue = [6, 0]'),\n",
       " Text(304.7565491183879, 131.60842105263157, 'gini = 0.0\\nsamples = 1\\nvalue = [0, 1]'),\n",
       " Text(319.1984886649874, 165.94105263157894, 'X[2] <= 0.67\\ngini = 0.077\\nsamples = 149\\nvalue = [143, 6]'),\n",
       " Text(317.511838790932, 154.49684210526317, 'gini = 0.0\\nsamples = 65\\nvalue = [65, 0]'),\n",
       " Text(320.8851385390428, 154.49684210526317, 'X[2] <= 0.726\\ngini = 0.133\\nsamples = 84\\nvalue = [78, 6]'),\n",
       " Text(314.56020151133504, 143.05263157894737, 'X[0] <= 0.245\\ngini = 0.346\\nsamples = 9\\nvalue = [7, 2]'),\n",
       " Text(312.8735516372796, 131.60842105263157, 'gini = 0.0\\nsamples = 4\\nvalue = [4, 0]'),\n",
       " Text(316.2468513853904, 131.60842105263157, 'X[4] <= 1.289\\ngini = 0.48\\nsamples = 5\\nvalue = [3, 2]'),\n",
       " Text(314.56020151133504, 120.16421052631578, 'X[4] <= 0.133\\ngini = 0.444\\nsamples = 3\\nvalue = [1, 2]'),\n",
       " Text(312.8735516372796, 108.72, 'gini = 0.5\\nsamples = 2\\nvalue = [1, 1]'),\n",
       " Text(316.2468513853904, 108.72, 'gini = 0.0\\nsamples = 1\\nvalue = [0, 1]'),\n",
       " Text(317.93350125944585, 120.16421052631578, 'gini = 0.0\\nsamples = 2\\nvalue = [2, 0]'),\n",
       " Text(327.2100755667506, 143.05263157894737, 'X[6] <= -0.325\\ngini = 0.101\\nsamples = 75\\nvalue = [71, 4]'),\n",
       " Text(325.52342569269524, 131.60842105263157, 'X[2] <= 1.151\\ngini = 0.145\\nsamples = 51\\nvalue = [47, 4]'),\n",
       " Text(321.30680100755666, 120.16421052631578, 'X[2] <= 1.096\\ngini = 0.227\\nsamples = 23\\nvalue = [20, 3]'),\n",
       " Text(319.6201511335013, 108.72, 'X[7] <= 1.392\\ngini = 0.165\\nsamples = 22\\nvalue = [20, 2]'),\n",
       " Text(316.2468513853904, 97.27578947368421, 'X[5] <= -0.433\\ngini = 0.1\\nsamples = 19\\nvalue = [18, 1]'),\n",
       " Text(314.56020151133504, 85.83157894736843, 'gini = 0.0\\nsamples = 15\\nvalue = [15, 0]'),\n",
       " Text(317.93350125944585, 85.83157894736843, 'X[2] <= 0.837\\ngini = 0.375\\nsamples = 4\\nvalue = [3, 1]'),\n",
       " Text(316.2468513853904, 74.38736842105263, 'gini = 0.0\\nsamples = 1\\nvalue = [1, 0]'),\n",
       " Text(319.6201511335013, 74.38736842105263, 'X[2] <= 0.985\\ngini = 0.444\\nsamples = 3\\nvalue = [2, 1]'),\n",
       " Text(317.93350125944585, 62.943157894736856, 'gini = 0.5\\nsamples = 2\\nvalue = [1, 1]'),\n",
       " Text(321.30680100755666, 62.943157894736856, 'gini = 0.0\\nsamples = 1\\nvalue = [1, 0]'),\n",
       " Text(322.9934508816121, 97.27578947368421, 'X[2] <= 0.813\\ngini = 0.444\\nsamples = 3\\nvalue = [2, 1]'),\n",
       " Text(321.30680100755666, 85.83157894736843, 'gini = 0.0\\nsamples = 2\\nvalue = [2, 0]'),\n",
       " Text(324.6801007556675, 85.83157894736843, 'gini = 0.0\\nsamples = 1\\nvalue = [0, 1]'),\n",
       " Text(322.9934508816121, 108.72, 'gini = 0.0\\nsamples = 1\\nvalue = [0, 1]'),\n",
       " Text(329.74005037783377, 120.16421052631578, 'X[2] <= 2.355\\ngini = 0.069\\nsamples = 28\\nvalue = [27, 1]'),\n",
       " Text(328.05340050377833, 108.72, 'gini = 0.0\\nsamples = 21\\nvalue = [21, 0]'),\n",
       " Text(331.4267002518892, 108.72, 'X[2] <= 2.503\\ngini = 0.245\\nsamples = 7\\nvalue = [6, 1]'),\n",
       " Text(329.74005037783377, 97.27578947368421, 'X[8] <= -0.436\\ngini = 0.5\\nsamples = 2\\nvalue = [1, 1]'),\n",
       " Text(328.05340050377833, 85.83157894736843, 'gini = 0.0\\nsamples = 1\\nvalue = [1, 0]'),\n",
       " Text(331.4267002518892, 85.83157894736843, 'gini = 0.0\\nsamples = 1\\nvalue = [0, 1]'),\n",
       " Text(333.1133501259446, 97.27578947368421, 'gini = 0.0\\nsamples = 5\\nvalue = [5, 0]'),\n",
       " Text(328.89672544080605, 131.60842105263157, 'gini = 0.0\\nsamples = 24\\nvalue = [24, 0]')]"
      ]
     },
     "execution_count": 235,
     "metadata": {},
     "output_type": "execute_result"
    },
    {
     "data": {
      "image/png": "[encoded data removed]",
      "text/plain": [
       "<Figure size 432x288 with 1 Axes>"
      ]
     },
     "metadata": {
      "needs_background": "light"
     },
     "output_type": "display_data"
    }
   ],
   "source": [
    "## Close look on the DecisionTree: \n",
    "tree_model=results.iloc[2]['saved_model']\n",
    "tree.plot_tree(tree_model)"
   ]
  },
  {
   "attachments": {},
   "cell_type": "markdown",
   "metadata": {},
   "source": [
    "As we didn't specify any max_depth for trees, the models overfitted. let's try to do precise the max_depth parameter with DecisionTree and RandomForest to reduce overfitting and pruning \n",
    "\n",
    "2nd Attempt : With max_depth\n"
   ]
  },
  {
   "cell_type": "code",
   "execution_count": 236,
   "metadata": {},
   "outputs": [
    {
     "name": "stderr",
     "output_type": "stream",
     "text": [
      "100%|██████████| 7/7 [00:08<00:00,  1.15s/it]\n"
     ]
    },
    {
     "data": {
      "text/html": [
       "<div>\n",
       "<style scoped>\n",
       "    .dataframe tbody tr th:only-of-type {\n",
       "        vertical-align: middle;\n",
       "    }\n",
       "\n",
       "    .dataframe tbody tr th {\n",
       "        vertical-align: top;\n",
       "    }\n",
       "\n",
       "    .dataframe thead th {\n",
       "        text-align: right;\n",
       "    }\n",
       "</style>\n",
       "<table border=\"1\" class=\"dataframe\">\n",
       "  <thead>\n",
       "    <tr style=\"text-align: right;\">\n",
       "      <th></th>\n",
       "      <th>Model</th>\n",
       "      <th>Acc_Train</th>\n",
       "      <th>Acc_Test</th>\n",
       "      <th>Cross_val</th>\n",
       "      <th>saved_model</th>\n",
       "    </tr>\n",
       "  </thead>\n",
       "  <tbody>\n",
       "    <tr>\n",
       "      <th>0</th>\n",
       "      <td>RandomForestClassifier(max_depth=3, random_sta...</td>\n",
       "      <td>0.812798</td>\n",
       "      <td>0.801527</td>\n",
       "      <td>0.733318</td>\n",
       "      <td>(DecisionTreeClassifier(max_depth=3, max_featu...</td>\n",
       "    </tr>\n",
       "    <tr>\n",
       "      <th>1</th>\n",
       "      <td>DecisionTreeClassifier(max_depth=3, random_sta...</td>\n",
       "      <td>0.815664</td>\n",
       "      <td>0.805344</td>\n",
       "      <td>0.743224</td>\n",
       "      <td>DecisionTreeClassifier(max_depth=3, random_sta...</td>\n",
       "    </tr>\n",
       "    <tr>\n",
       "      <th>2</th>\n",
       "      <td>RandomForestClassifier(max_depth=5, random_sta...</td>\n",
       "      <td>0.845272</td>\n",
       "      <td>0.801527</td>\n",
       "      <td>0.753183</td>\n",
       "      <td>(DecisionTreeClassifier(max_depth=5, max_featu...</td>\n",
       "    </tr>\n",
       "    <tr>\n",
       "      <th>3</th>\n",
       "      <td>DecisionTreeClassifier(max_depth=5, random_sta...</td>\n",
       "      <td>0.833811</td>\n",
       "      <td>0.782443</td>\n",
       "      <td>0.741715</td>\n",
       "      <td>DecisionTreeClassifier(max_depth=5, random_sta...</td>\n",
       "    </tr>\n",
       "    <tr>\n",
       "      <th>4</th>\n",
       "      <td>RandomForestClassifier(max_depth=10, random_st...</td>\n",
       "      <td>0.936008</td>\n",
       "      <td>0.801527</td>\n",
       "      <td>0.767716</td>\n",
       "      <td>(DecisionTreeClassifier(max_depth=10, max_feat...</td>\n",
       "    </tr>\n",
       "    <tr>\n",
       "      <th>5</th>\n",
       "      <td>DecisionTreeClassifier(max_depth=10, random_st...</td>\n",
       "      <td>0.911175</td>\n",
       "      <td>0.740458</td>\n",
       "      <td>0.733318</td>\n",
       "      <td>DecisionTreeClassifier(max_depth=10, random_st...</td>\n",
       "    </tr>\n",
       "    <tr>\n",
       "      <th>6</th>\n",
       "      <td>SVC(probability=True)</td>\n",
       "      <td>0.825215</td>\n",
       "      <td>0.790076</td>\n",
       "      <td>0.760857</td>\n",
       "      <td>SVC(probability=True)</td>\n",
       "    </tr>\n",
       "  </tbody>\n",
       "</table>\n",
       "</div>"
      ],
      "text/plain": [
       "                                               Model  Acc_Train  Acc_Test  \\\n",
       "0  RandomForestClassifier(max_depth=3, random_sta...   0.812798  0.801527   \n",
       "1  DecisionTreeClassifier(max_depth=3, random_sta...   0.815664  0.805344   \n",
       "2  RandomForestClassifier(max_depth=5, random_sta...   0.845272  0.801527   \n",
       "3  DecisionTreeClassifier(max_depth=5, random_sta...   0.833811  0.782443   \n",
       "4  RandomForestClassifier(max_depth=10, random_st...   0.936008  0.801527   \n",
       "5  DecisionTreeClassifier(max_depth=10, random_st...   0.911175  0.740458   \n",
       "6                              SVC(probability=True)   0.825215  0.790076   \n",
       "\n",
       "   Cross_val                                        saved_model  \n",
       "0   0.733318  (DecisionTreeClassifier(max_depth=3, max_featu...  \n",
       "1   0.743224  DecisionTreeClassifier(max_depth=3, random_sta...  \n",
       "2   0.753183  (DecisionTreeClassifier(max_depth=5, max_featu...  \n",
       "3   0.741715  DecisionTreeClassifier(max_depth=5, random_sta...  \n",
       "4   0.767716  (DecisionTreeClassifier(max_depth=10, max_feat...  \n",
       "5   0.733318  DecisionTreeClassifier(max_depth=10, random_st...  \n",
       "6   0.760857                              SVC(probability=True)  "
      ]
     },
     "execution_count": 236,
     "metadata": {},
     "output_type": "execute_result"
    }
   ],
   "source": [
    "models= [\n",
    "    RandomForestClassifier(max_depth=3,random_state=rand_state),\n",
    "    DecisionTreeClassifier(max_depth=3,random_state=rand_state),\n",
    "        RandomForestClassifier(max_depth=5,random_state=rand_state),\n",
    "    DecisionTreeClassifier(max_depth=5,random_state=rand_state),\n",
    "    RandomForestClassifier(max_depth=10,random_state=rand_state),\n",
    "    DecisionTreeClassifier(max_depth=10,random_state=rand_state),\n",
    "    SVC(probability=True),\n",
    "]\n",
    "results2 =get_metrics(models)\n",
    "results2"
   ]
  },
  {
   "attachments": {},
   "cell_type": "markdown",
   "metadata": {},
   "source": [
    "- Eventough we can notice a reduction in the difference between the training and testing accuracy with less deep trees, the models seems to be instable and still overfitting. \n",
    "- For this reason, we will choose the Support Vector Classifier, where relatively stable metrics are observed"
   ]
  },
  {
   "attachments": {},
   "cell_type": "markdown",
   "metadata": {},
   "source": [
    "#### c) Finetuning our final model : Support Vector Machine"
   ]
  },
  {
   "cell_type": "code",
   "execution_count": 237,
   "metadata": {},
   "outputs": [
    {
     "name": "stdout",
     "output_type": "stream",
     "text": [
      "Fitting 5 folds for each of 24 candidates, totalling 120 fits\n",
      "[CV 1/5] END .................C=0.1, gamma=scale, kernel=rbf; total time=   0.0s\n",
      "[CV 2/5] END .................C=0.1, gamma=scale, kernel=rbf; total time=   0.0s\n",
      "[CV 3/5] END .................C=0.1, gamma=scale, kernel=rbf; total time=   0.0s\n",
      "[CV 4/5] END .................C=0.1, gamma=scale, kernel=rbf; total time=   0.0s\n",
      "[CV 5/5] END .................C=0.1, gamma=scale, kernel=rbf; total time=   0.0s\n",
      "[CV 1/5] END .............C=0.1, gamma=scale, kernel=sigmoid; total time=   0.0s\n",
      "[CV 2/5] END .............C=0.1, gamma=scale, kernel=sigmoid; total time=   0.0s\n",
      "[CV 3/5] END .............C=0.1, gamma=scale, kernel=sigmoid; total time=   0.0s\n",
      "[CV 4/5] END .............C=0.1, gamma=scale, kernel=sigmoid; total time=   0.0s\n",
      "[CV 5/5] END .............C=0.1, gamma=scale, kernel=sigmoid; total time=   0.0s\n",
      "[CV 1/5] END ..............C=0.1, gamma=scale, kernel=linear; total time=   0.0s\n",
      "[CV 2/5] END ..............C=0.1, gamma=scale, kernel=linear; total time=   0.0s\n",
      "[CV 3/5] END ..............C=0.1, gamma=scale, kernel=linear; total time=   0.0s\n",
      "[CV 4/5] END ..............C=0.1, gamma=scale, kernel=linear; total time=   0.0s\n",
      "[CV 5/5] END ..............C=0.1, gamma=scale, kernel=linear; total time=   0.0s\n",
      "[CV 1/5] END ..................C=0.1, gamma=auto, kernel=rbf; total time=   0.0s\n",
      "[CV 2/5] END ..................C=0.1, gamma=auto, kernel=rbf; total time=   0.0s\n",
      "[CV 3/5] END ..................C=0.1, gamma=auto, kernel=rbf; total time=   0.0s\n",
      "[CV 4/5] END ..................C=0.1, gamma=auto, kernel=rbf; total time=   0.0s\n",
      "[CV 5/5] END ..................C=0.1, gamma=auto, kernel=rbf; total time=   0.0s\n",
      "[CV 1/5] END ..............C=0.1, gamma=auto, kernel=sigmoid; total time=   0.0s\n",
      "[CV 2/5] END ..............C=0.1, gamma=auto, kernel=sigmoid; total time=   0.0s\n",
      "[CV 3/5] END ..............C=0.1, gamma=auto, kernel=sigmoid; total time=   0.0s\n",
      "[CV 4/5] END ..............C=0.1, gamma=auto, kernel=sigmoid; total time=   0.0s\n",
      "[CV 5/5] END ..............C=0.1, gamma=auto, kernel=sigmoid; total time=   0.0s\n",
      "[CV 1/5] END ...............C=0.1, gamma=auto, kernel=linear; total time=   0.0s\n",
      "[CV 2/5] END ...............C=0.1, gamma=auto, kernel=linear; total time=   0.0s\n",
      "[CV 3/5] END ...............C=0.1, gamma=auto, kernel=linear; total time=   0.0s\n",
      "[CV 4/5] END ...............C=0.1, gamma=auto, kernel=linear; total time=   0.0s\n",
      "[CV 5/5] END ...............C=0.1, gamma=auto, kernel=linear; total time=   0.0s\n",
      "[CV 1/5] END ...................C=1, gamma=scale, kernel=rbf; total time=   0.0s\n",
      "[CV 2/5] END ...................C=1, gamma=scale, kernel=rbf; total time=   0.0s\n",
      "[CV 3/5] END ...................C=1, gamma=scale, kernel=rbf; total time=   0.0s\n",
      "[CV 4/5] END ...................C=1, gamma=scale, kernel=rbf; total time=   0.0s\n",
      "[CV 5/5] END ...................C=1, gamma=scale, kernel=rbf; total time=   0.0s\n",
      "[CV 1/5] END ...............C=1, gamma=scale, kernel=sigmoid; total time=   0.0s\n",
      "[CV 2/5] END ...............C=1, gamma=scale, kernel=sigmoid; total time=   0.0s\n",
      "[CV 3/5] END ...............C=1, gamma=scale, kernel=sigmoid; total time=   0.0s\n",
      "[CV 4/5] END ...............C=1, gamma=scale, kernel=sigmoid; total time=   0.0s\n",
      "[CV 5/5] END ...............C=1, gamma=scale, kernel=sigmoid; total time=   0.0s\n",
      "[CV 1/5] END ................C=1, gamma=scale, kernel=linear; total time=   0.0s\n",
      "[CV 2/5] END ................C=1, gamma=scale, kernel=linear; total time=   0.0s\n",
      "[CV 3/5] END ................C=1, gamma=scale, kernel=linear; total time=   0.0s\n",
      "[CV 4/5] END ................C=1, gamma=scale, kernel=linear; total time=   0.0s\n",
      "[CV 5/5] END ................C=1, gamma=scale, kernel=linear; total time=   0.0s\n",
      "[CV 1/5] END ....................C=1, gamma=auto, kernel=rbf; total time=   0.0s\n",
      "[CV 2/5] END ....................C=1, gamma=auto, kernel=rbf; total time=   0.0s\n",
      "[CV 3/5] END ....................C=1, gamma=auto, kernel=rbf; total time=   0.0s\n",
      "[CV 4/5] END ....................C=1, gamma=auto, kernel=rbf; total time=   0.0s\n",
      "[CV 5/5] END ....................C=1, gamma=auto, kernel=rbf; total time=   0.0s\n",
      "[CV 1/5] END ................C=1, gamma=auto, kernel=sigmoid; total time=   0.0s\n",
      "[CV 2/5] END ................C=1, gamma=auto, kernel=sigmoid; total time=   0.0s\n",
      "[CV 3/5] END ................C=1, gamma=auto, kernel=sigmoid; total time=   0.0s\n",
      "[CV 4/5] END ................C=1, gamma=auto, kernel=sigmoid; total time=   0.0s\n",
      "[CV 5/5] END ................C=1, gamma=auto, kernel=sigmoid; total time=   0.0s\n",
      "[CV 1/5] END .................C=1, gamma=auto, kernel=linear; total time=   0.0s\n",
      "[CV 2/5] END .................C=1, gamma=auto, kernel=linear; total time=   0.0s\n",
      "[CV 3/5] END .................C=1, gamma=auto, kernel=linear; total time=   0.0s\n",
      "[CV 4/5] END .................C=1, gamma=auto, kernel=linear; total time=   0.0s\n",
      "[CV 5/5] END .................C=1, gamma=auto, kernel=linear; total time=   0.0s\n",
      "[CV 1/5] END ..................C=10, gamma=scale, kernel=rbf; total time=   0.0s\n",
      "[CV 2/5] END ..................C=10, gamma=scale, kernel=rbf; total time=   0.0s\n",
      "[CV 3/5] END ..................C=10, gamma=scale, kernel=rbf; total time=   0.0s\n",
      "[CV 4/5] END ..................C=10, gamma=scale, kernel=rbf; total time=   0.0s\n",
      "[CV 5/5] END ..................C=10, gamma=scale, kernel=rbf; total time=   0.0s\n",
      "[CV 1/5] END ..............C=10, gamma=scale, kernel=sigmoid; total time=   0.0s\n",
      "[CV 2/5] END ..............C=10, gamma=scale, kernel=sigmoid; total time=   0.0s\n",
      "[CV 3/5] END ..............C=10, gamma=scale, kernel=sigmoid; total time=   0.0s\n",
      "[CV 4/5] END ..............C=10, gamma=scale, kernel=sigmoid; total time=   0.0s\n",
      "[CV 5/5] END ..............C=10, gamma=scale, kernel=sigmoid; total time=   0.0s\n",
      "[CV 1/5] END ...............C=10, gamma=scale, kernel=linear; total time=   0.0s\n",
      "[CV 2/5] END ...............C=10, gamma=scale, kernel=linear; total time=   0.0s\n",
      "[CV 3/5] END ...............C=10, gamma=scale, kernel=linear; total time=   0.0s\n",
      "[CV 4/5] END ...............C=10, gamma=scale, kernel=linear; total time=   0.1s\n",
      "[CV 5/5] END ...............C=10, gamma=scale, kernel=linear; total time=   0.0s\n",
      "[CV 1/5] END ...................C=10, gamma=auto, kernel=rbf; total time=   0.0s\n",
      "[CV 2/5] END ...................C=10, gamma=auto, kernel=rbf; total time=   0.0s\n",
      "[CV 3/5] END ...................C=10, gamma=auto, kernel=rbf; total time=   0.0s\n",
      "[CV 4/5] END ...................C=10, gamma=auto, kernel=rbf; total time=   0.0s\n",
      "[CV 5/5] END ...................C=10, gamma=auto, kernel=rbf; total time=   0.0s\n",
      "[CV 1/5] END ...............C=10, gamma=auto, kernel=sigmoid; total time=   0.0s\n",
      "[CV 2/5] END ...............C=10, gamma=auto, kernel=sigmoid; total time=   0.0s\n",
      "[CV 3/5] END ...............C=10, gamma=auto, kernel=sigmoid; total time=   0.0s\n",
      "[CV 4/5] END ...............C=10, gamma=auto, kernel=sigmoid; total time=   0.0s\n",
      "[CV 5/5] END ...............C=10, gamma=auto, kernel=sigmoid; total time=   0.0s\n",
      "[CV 1/5] END ................C=10, gamma=auto, kernel=linear; total time=   0.0s\n",
      "[CV 2/5] END ................C=10, gamma=auto, kernel=linear; total time=   0.0s\n",
      "[CV 3/5] END ................C=10, gamma=auto, kernel=linear; total time=   0.0s\n",
      "[CV 4/5] END ................C=10, gamma=auto, kernel=linear; total time=   0.1s\n",
      "[CV 5/5] END ................C=10, gamma=auto, kernel=linear; total time=   0.0s\n",
      "[CV 1/5] END .................C=100, gamma=scale, kernel=rbf; total time=   0.1s\n",
      "[CV 2/5] END .................C=100, gamma=scale, kernel=rbf; total time=   0.1s\n",
      "[CV 3/5] END .................C=100, gamma=scale, kernel=rbf; total time=   0.1s\n",
      "[CV 4/5] END .................C=100, gamma=scale, kernel=rbf; total time=   0.1s\n",
      "[CV 5/5] END .................C=100, gamma=scale, kernel=rbf; total time=   0.1s\n",
      "[CV 1/5] END .............C=100, gamma=scale, kernel=sigmoid; total time=   0.0s\n",
      "[CV 2/5] END .............C=100, gamma=scale, kernel=sigmoid; total time=   0.0s\n",
      "[CV 3/5] END .............C=100, gamma=scale, kernel=sigmoid; total time=   0.0s\n",
      "[CV 4/5] END .............C=100, gamma=scale, kernel=sigmoid; total time=   0.0s\n",
      "[CV 5/5] END .............C=100, gamma=scale, kernel=sigmoid; total time=   0.0s\n",
      "[CV 1/5] END ..............C=100, gamma=scale, kernel=linear; total time=   0.3s\n",
      "[CV 2/5] END ..............C=100, gamma=scale, kernel=linear; total time=   0.6s\n",
      "[CV 3/5] END ..............C=100, gamma=scale, kernel=linear; total time=   0.4s\n",
      "[CV 4/5] END ..............C=100, gamma=scale, kernel=linear; total time=   0.5s\n",
      "[CV 5/5] END ..............C=100, gamma=scale, kernel=linear; total time=   0.2s\n",
      "[CV 1/5] END ..................C=100, gamma=auto, kernel=rbf; total time=   0.2s\n",
      "[CV 2/5] END ..................C=100, gamma=auto, kernel=rbf; total time=   0.1s\n",
      "[CV 3/5] END ..................C=100, gamma=auto, kernel=rbf; total time=   0.1s\n",
      "[CV 4/5] END ..................C=100, gamma=auto, kernel=rbf; total time=   0.1s\n",
      "[CV 5/5] END ..................C=100, gamma=auto, kernel=rbf; total time=   0.1s\n",
      "[CV 1/5] END ..............C=100, gamma=auto, kernel=sigmoid; total time=   0.0s\n",
      "[CV 2/5] END ..............C=100, gamma=auto, kernel=sigmoid; total time=   0.0s\n",
      "[CV 3/5] END ..............C=100, gamma=auto, kernel=sigmoid; total time=   0.0s\n",
      "[CV 4/5] END ..............C=100, gamma=auto, kernel=sigmoid; total time=   0.0s\n",
      "[CV 5/5] END ..............C=100, gamma=auto, kernel=sigmoid; total time=   0.0s\n",
      "[CV 1/5] END ...............C=100, gamma=auto, kernel=linear; total time=   0.3s\n",
      "[CV 2/5] END ...............C=100, gamma=auto, kernel=linear; total time=   0.6s\n",
      "[CV 3/5] END ...............C=100, gamma=auto, kernel=linear; total time=   0.4s\n",
      "[CV 4/5] END ...............C=100, gamma=auto, kernel=linear; total time=   0.5s\n",
      "[CV 5/5] END ...............C=100, gamma=auto, kernel=linear; total time=   0.2s\n"
     ]
    },
    {
     "data": {
      "text/plain": [
       "GridSearchCV(estimator=SVC(),\n",
       "             param_grid={'C': [0.1, 1, 10, 100], 'gamma': ['scale', 'auto'],\n",
       "                         'kernel': ['rbf', 'sigmoid', 'linear']},\n",
       "             verbose=3)"
      ]
     },
     "execution_count": 237,
     "metadata": {},
     "output_type": "execute_result"
    }
   ],
   "source": [
    "# defining parameter range\n",
    "param_grid = {'C': [0.1, 1, 10, 100], \n",
    "              'gamma': ['scale','auto'],\n",
    "              'kernel': ['rbf', 'sigmoid', 'linear']} \n",
    "  \n",
    "grid = GridSearchCV(SVC(), param_grid, refit = True, verbose = 3)\n",
    "  \n",
    "# fitting the model for grid search\n",
    "grid.fit(X_train, y_train)"
   ]
  },
  {
   "cell_type": "code",
   "execution_count": 238,
   "metadata": {},
   "outputs": [
    {
     "name": "stdout",
     "output_type": "stream",
     "text": [
      "The best paramters: {'C': 1, 'gamma': 'scale', 'kernel': 'rbf'} with a score of 0.8128730918204603\n"
     ]
    }
   ],
   "source": [
    "print(f\"The best paramters: {grid.best_params_} with a score of {grid.best_score_}\")\n"
   ]
  },
  {
   "attachments": {},
   "cell_type": "markdown",
   "metadata": {},
   "source": [
    "#### d) Close look at our final model, metrics and confusion matrix\n",
    "\n",
    "Confusion matrix"
   ]
  },
  {
   "cell_type": "code",
   "execution_count": 239,
   "metadata": {},
   "outputs": [
    {
     "data": {
      "text/plain": [
       "<sklearn.metrics._plot.confusion_matrix.ConfusionMatrixDisplay at 0x7fb96725b7f0>"
      ]
     },
     "execution_count": 239,
     "metadata": {},
     "output_type": "execute_result"
    },
    {
     "data": {
      "image/png": "[encoded data removed]",
      "text/plain": [
       "<Figure size 432x288 with 2 Axes>"
      ]
     },
     "metadata": {
      "needs_background": "light"
     },
     "output_type": "display_data"
    }
   ],
   "source": [
    "#choosen model= SVC\n",
    "final_model=SVC(C=1,gamma='scale',kernel='rbf')\n",
    "final_model.fit(X_train,y_train)\n",
    "y_pred=final_model.predict(X_test)\n",
    "\n",
    "disp=ConfusionMatrixDisplay(confusion_matrix=confusion_matrix(y_test,y_pred),display_labels=final_model.classes_)\n",
    "disp.plot()"
   ]
  },
  {
   "cell_type": "code",
   "execution_count": 240,
   "metadata": {},
   "outputs": [
    {
     "name": "stdout",
     "output_type": "stream",
     "text": [
      "              precision    recall  f1-score   support\n",
      "\n",
      "           0       0.80      0.88      0.84       160\n",
      "           1       0.77      0.66      0.71       102\n",
      "\n",
      "    accuracy                           0.79       262\n",
      "   macro avg       0.79      0.77      0.77       262\n",
      "weighted avg       0.79      0.79      0.79       262\n",
      "\n"
     ]
    }
   ],
   "source": [
    "print(classification_report(y_test,y_pred))"
   ]
  },
  {
   "attachments": {},
   "cell_type": "markdown",
   "metadata": {},
   "source": [
    "## Final score 81 % \n",
    "\n",
    "#### What could be done to have better performance ? \n",
    "- Try to do more feature engenieering, to come up with more correlated data\n",
    "- test other ML algorithms (XGBoost, MLP)\n",
    "- Fine tune all the tested algorithms\n",
    "- Try to use SMOTE to have a 50/50 repartition of the values (regarding the dependent variable)"
   ]
  }
 ],
 "metadata": {
  "kernelspec": {
   "display_name": "Python 3",
   "language": "python",
   "name": "python3"
  },
  "language_info": {
   "codemirror_mode": {
    "name": "ipython",
    "version": 3
   },
   "file_extension": ".py",
   "mimetype": "text/x-python",
   "name": "python",
   "nbconvert_exporter": "python",
   "pygments_lexer": "ipython3",
   "version": "3.8.6"
  },
  "orig_nbformat": 4,
  "vscode": {
   "interpreter": {
    "hash": "aee8b7b246df8f9039afb4144a1f6fd8d2ca17a180786b69acc140d282b71a49"
   }
  }
 },
 "nbformat": 4,
 "nbformat_minor": 2
}
